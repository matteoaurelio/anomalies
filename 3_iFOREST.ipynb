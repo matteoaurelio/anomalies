{
 "cells": [
  {
   "cell_type": "markdown",
   "metadata": {},
   "source": [
    "### Isolation Forest (iForest)\n",
    "\n",
    "* Isolation Forest or IForest applies a tree structure to isolate every instance. Anomalies will be the data points first to be singled out, whereas normal points tend to hide deep in the tree <br>\n",
    "* When we have data, we use \"cuts\" to understand how many branches the tree should split before reaching to the final one. The more cuts it takes to separate a dot, the deeper it sits in the tree. The inverse of the number of cuts is the anomaly score.\n",
    "* The number of depths is a good proxy for the anomaly score.\n",
    "* An iTree is a binary tree, where each node in the tree has exact zero or two daughter nodes. An iTree grows until one of the following conditions is met: i) the end node has only one data point, ii) all data in a node has the same values, iii) the tree reaches the height limit. \n",
    "\n",
    "* A small sample size of the iTree produces better results because swaming and masking effects are reduced.\n",
    "\n",
    "\n",
    "* When we talk about \"ensemble\" trees, we are trying to overcome the limitation of overfitting. Decision trees tend to be overfit the data, so we can build many trees on top of the data and average the predictions.\n",
    "\n",
    "* To start the algorithm, there is a number of rows and columns selected randomly (subsets) and iTree is built on top of each table to render the results. \n",
    "\n",
    "* The goal of the iForest is to assign an outlier score to each instance (row). An instance can have up to N scores that are then averaged out to get the final score."
   ]
  },
  {
   "cell_type": "code",
   "execution_count": 1,
   "metadata": {},
   "outputs": [
    {
     "data": {
      "text/html": [
       "<div>\n",
       "<style scoped>\n",
       "    .dataframe tbody tr th:only-of-type {\n",
       "        vertical-align: middle;\n",
       "    }\n",
       "\n",
       "    .dataframe tbody tr th {\n",
       "        vertical-align: top;\n",
       "    }\n",
       "\n",
       "    .dataframe thead th {\n",
       "        text-align: right;\n",
       "    }\n",
       "</style>\n",
       "<table border=\"1\" class=\"dataframe\">\n",
       "  <thead>\n",
       "    <tr style=\"text-align: right;\">\n",
       "      <th></th>\n",
       "      <th>0</th>\n",
       "      <th>1</th>\n",
       "      <th>2</th>\n",
       "      <th>3</th>\n",
       "      <th>4</th>\n",
       "      <th>5</th>\n",
       "    </tr>\n",
       "  </thead>\n",
       "  <tbody>\n",
       "    <tr>\n",
       "      <th>0</th>\n",
       "      <td>2.396090</td>\n",
       "      <td>2.092611</td>\n",
       "      <td>2.073392</td>\n",
       "      <td>1.988262</td>\n",
       "      <td>1.953473</td>\n",
       "      <td>2.450997</td>\n",
       "    </tr>\n",
       "    <tr>\n",
       "      <th>1</th>\n",
       "      <td>1.631040</td>\n",
       "      <td>1.746182</td>\n",
       "      <td>1.898050</td>\n",
       "      <td>2.380148</td>\n",
       "      <td>1.967332</td>\n",
       "      <td>1.858916</td>\n",
       "    </tr>\n",
       "    <tr>\n",
       "      <th>2</th>\n",
       "      <td>1.824683</td>\n",
       "      <td>2.131412</td>\n",
       "      <td>2.028829</td>\n",
       "      <td>1.703454</td>\n",
       "      <td>2.502966</td>\n",
       "      <td>2.119108</td>\n",
       "    </tr>\n",
       "    <tr>\n",
       "      <th>3</th>\n",
       "      <td>2.106098</td>\n",
       "      <td>2.165173</td>\n",
       "      <td>2.340826</td>\n",
       "      <td>2.170109</td>\n",
       "      <td>1.749139</td>\n",
       "      <td>1.678661</td>\n",
       "    </tr>\n",
       "    <tr>\n",
       "      <th>4</th>\n",
       "      <td>1.829647</td>\n",
       "      <td>1.775596</td>\n",
       "      <td>1.829438</td>\n",
       "      <td>2.054768</td>\n",
       "      <td>1.577190</td>\n",
       "      <td>1.594549</td>\n",
       "    </tr>\n",
       "  </tbody>\n",
       "</table>\n",
       "</div>"
      ],
      "text/plain": [
       "          0         1         2         3         4         5\n",
       "0  2.396090  2.092611  2.073392  1.988262  1.953473  2.450997\n",
       "1  1.631040  1.746182  1.898050  2.380148  1.967332  1.858916\n",
       "2  1.824683  2.131412  2.028829  1.703454  2.502966  2.119108\n",
       "3  2.106098  2.165173  2.340826  2.170109  1.749139  1.678661\n",
       "4  1.829647  1.775596  1.829438  2.054768  1.577190  1.594549"
      ]
     },
     "execution_count": 1,
     "metadata": {},
     "output_type": "execute_result"
    }
   ],
   "source": [
    "import numpy as np\n",
    "import pandas as pd\n",
    "import matplotlib.pyplot as plt\n",
    "from pyod.utils.data import generate_data\n",
    "\n",
    "contamination = 0.05\n",
    "\n",
    "n_train = 500\n",
    "n_test = 500\n",
    "n_features = 6\n",
    "\n",
    "X_train, X_test, y_train, y_test = generate_data(\n",
    "                                    n_train=n_train,\n",
    "                                    n_test=n_test,\n",
    "                                    n_features=n_features,\n",
    "                                    contamination=contamination,\n",
    "                                    random_state=123)\n",
    "\n",
    "X_train_pd = pd.DataFrame(X_train)\n",
    "X_train_pd.head()"
   ]
  },
  {
   "cell_type": "code",
   "execution_count": 5,
   "metadata": {},
   "outputs": [],
   "source": [
    "def count_stat(vector):\n",
    "    unique, counts = np.unique(vector, return_counts=True)\n",
    "    return dict(zip(unique, counts))\n",
    "\n",
    "def descriptive_stat_threshold(df, pred_score, threshold):\n",
    "    df = pd.DataFrame(df)\n",
    "    df['Anomaly_Score'] = pred_score\n",
    "\n",
    "    df['Group'] = np.where(df['Anomaly_Score'] < threshold,\n",
    "                           'Normal', 'Outlier')\n",
    "    \n",
    "    cnt = df.groupby('Group')['Anomaly_Score'].count().reset_index().rename(columns={'Anomaly_Score': 'Count'})\n",
    "\n",
    "    cnt['Count %'] = (cnt['Count'] / cnt['Count'].sum()) * 100\n",
    "\n",
    "    stat = df.groupby('Group').mean().round(2).reset_index()\n",
    "\n",
    "    stat = cnt.merge(stat, left_on='Group', right_on='Group')\n",
    "\n",
    "    return (stat)\n",
    "\n",
    "def confusion_matrix_threshold(actual, score, threshold):\n",
    "    actual_pred = pd.DataFrame({'actual': actual, 'pred': score})\n",
    "    actual_pred['pred'] = np.where(actual_pred['pred'] <= threshold, 0, 1)\n",
    "    cm = pd.crosstab(actual_pred['actual'], actual_pred['pred'])\n",
    "    return cm\n",
    "\n",
    "def confusion_matrix(actual, pred):\n",
    "    actual_pred = pd.DataFrame({'actual': actual, 'pred': pred})\n",
    "    cm = pd.crosstab(actual_pred['actual'], actual_pred['pred'])\n",
    "    return cm\n",
    "\n",
    "def plot_data():\n",
    "    plt.scatter(X_train_pd[0], X_train_pd[1], alpha=0.8, c=y_train)\n",
    "    plt.title('Scatter Plot')\n",
    "    plt.xlabel('x0')\n",
    "    plt.ylabel('x1')\n",
    "    plt.show()\n"
   ]
  },
  {
   "cell_type": "code",
   "execution_count": 6,
   "metadata": {},
   "outputs": [
    {
     "data": {
      "image/png": "[encoded data removed]",
      "text/plain": [
       "<Figure size 640x480 with 1 Axes>"
      ]
     },
     "metadata": {},
     "output_type": "display_data"
    }
   ],
   "source": [
    "plot_data()"
   ]
  },
  {
   "cell_type": "markdown",
   "metadata": {},
   "source": [
    "## Step 1: Build the Model \n",
    "\n",
    "### Isolation Forest Parameters\n",
    "\n",
    "1. **max_samples**: \n",
    "    * Represents the number of instances (rows) to be drawn from the training data to build a tree.\n",
    "    * Even though you might expect larger samples to produce better results, a smaller sample size, such as 40 instances, can often be more effective. This is because a small sample can efficiently isolate anomalies without the need for an extensive tree structure.\n",
    "\n",
    "2. **contamination**:\n",
    "    * It denotes the proportion of outliers you believe are present in your dataset. \n",
    "    * For instance, setting it to 0.05 indicates an estimated 5% of outliers in the dataset.\n",
    "\n",
    "3. **threshold**: \n",
    "    * Refers to the cutoff value used to determine whether a data instance is an anomaly or not.\n",
    "    * Understanding this threshold helps in setting precise criteria for anomaly detection.\n",
    "\n",
    "4. **n_estimators**: \n",
    "    * Specifies the number of trees in the ensemble.\n",
    "    * By default, the ensemble consists of 100 trees. However, you can adjust this number based on your dataset and the level of precision you seek.\n",
    "\n",
    "5. **max_features**: \n",
    "    * Denotes the number of features drawn from the training dataset for each base estimator or tree.\n",
    "    * Adjusting this can help in controlling the randomness of feature selection, thereby affecting the model's variance and bias.**\n",
    "\n",
    "6. **n_jobs**: \n",
    "    * Determines the number of jobs to run in parallel during both the 'fit' and 'predict' operations.\n",
    "    * Setting it to -1 allows the algorithm to utilize all available CPU cores, optimizing computation speed.\n",
    "\n",
    "    **Total available features (X) to train each base estimator. When set to a float, it interprets that float as a percentage. So, max_features=1.0 means it uses 100% of the features, which is essentially all of them.\n"
   ]
  },
  {
   "cell_type": "code",
   "execution_count": 9,
   "metadata": {},
   "outputs": [
    {
     "name": "stdout",
     "output_type": "stream",
     "text": [
      "The threshold for the defined contamination rate: -4.349819116011844e-15\n",
      "The training data: {0: 475, 1: 25}\n",
      "The testing data: {0: 473, 1: 27}\n"
     ]
    }
   ],
   "source": [
    "from pyod.models.iforest import IForest\n",
    "\n",
    "isft = IForest(contamination=0.05, max_samples=40, behaviour='new')\n",
    "isft.fit(X_train)\n",
    "\n",
    "# Training data\n",
    "y_train_scores = isft.decision_function(X_train)\n",
    "y_train_pred = isft.predict(X_train)\n",
    "\n",
    "# Test data\n",
    "y_test_scores = isft.decision_function(X_test)\n",
    "y_test_pred = isft.predict(X_test)\n",
    "\n",
    "# Threshold for the defined contamination rate\n",
    "print(f'The threshold for the defined contamination rate: {isft.threshold_}')\n",
    "\n",
    "print(f'The training data: {count_stat(y_train_pred)}')\n",
    "print(f'The testing data: {count_stat(y_test_pred)}')\n"
   ]
  },
  {
   "cell_type": "code",
   "execution_count": 10,
   "metadata": {},
   "outputs": [
    {
     "data": {
      "text/plain": [
       "{'behaviour': 'new',\n",
       " 'bootstrap': False,\n",
       " 'contamination': 0.05,\n",
       " 'max_features': 1.0,\n",
       " 'max_samples': 40,\n",
       " 'n_estimators': 100,\n",
       " 'n_jobs': 1,\n",
       " 'random_state': None,\n",
       " 'verbose': 0}"
      ]
     },
     "execution_count": 10,
     "metadata": {},
     "output_type": "execute_result"
    }
   ],
   "source": [
    "isft.get_params()"
   ]
  },
  {
   "cell_type": "markdown",
   "metadata": {},
   "source": [
    "* .feature_importances_: This is an attribute of the trained model. For many tree-based models in scikit-learn (like Decision Trees, Random Forests, Gradient Boosted Trees, and others), the .feature_importances_ attribute provides an array of importance scores for each feature (or column) in your dataset. These scores represent how \"important\" or \"influential\" each feature was in making predictions (or, in the case of Isolation Forest, in isolating anomalies). A higher value indicates a more influential feature."
   ]
  },
  {
   "cell_type": "code",
   "execution_count": 11,
   "metadata": {},
   "outputs": [
    {
     "data": {
      "text/plain": [
       "array([0.20373837, 0.14240939, 0.15697331, 0.17678358, 0.17556283,\n",
       "       0.14453253])"
      ]
     },
     "execution_count": 11,
     "metadata": {},
     "output_type": "execute_result"
    }
   ],
   "source": [
    "isft_vi = isft.feature_importances_\n",
    "\n",
    "isft_vi"
   ]
  },
  {
   "cell_type": "code",
   "execution_count": 12,
   "metadata": {},
   "outputs": [
    {
     "data": {
      "text/plain": [
       "1.0"
      ]
     },
     "execution_count": 12,
     "metadata": {},
     "output_type": "execute_result"
    }
   ],
   "source": [
    "sum(isft_vi)"
   ]
  },
  {
   "cell_type": "code",
   "execution_count": 16,
   "metadata": {},
   "outputs": [
    {
     "data": {
      "text/plain": [
       "<Axes: >"
      ]
     },
     "execution_count": 16,
     "metadata": {},
     "output_type": "execute_result"
    },
    {
     "data": {
      "image/png": "[encoded data removed]",
      "text/plain": [
       "<Figure size 640x480 with 1 Axes>"
      ]
     },
     "metadata": {},
     "output_type": "display_data"
    }
   ],
   "source": [
    "for_plot = pd.DataFrame({'x_axis': X_train_pd.columns, 'y_axis': isft_vi}).sort_values(by='y_axis', ascending=True)\n",
    "\n",
    "for_plot['y_axis'].plot.barh()"
   ]
  },
  {
   "cell_type": "markdown",
   "metadata": {},
   "source": [
    "### Determine the Threshold"
   ]
  },
  {
   "cell_type": "code",
   "execution_count": 17,
   "metadata": {},
   "outputs": [
    {
     "data": {
      "image/png": "[encoded data removed]",
      "text/plain": [
       "<Figure size 640x480 with 1 Axes>"
      ]
     },
     "metadata": {},
     "output_type": "display_data"
    }
   ],
   "source": [
    "plt.hist(y_train_scores, bins='auto')\n",
    "plt.title('Outlier Score')\n",
    "plt.show()"
   ]
  },
  {
   "cell_type": "markdown",
   "metadata": {},
   "source": [
    "## Step 3: Descriptive Statistics"
   ]
  },
  {
   "cell_type": "code",
   "execution_count": 18,
   "metadata": {},
   "outputs": [
    {
     "data": {
      "text/html": [
       "<div>\n",
       "<style scoped>\n",
       "    .dataframe tbody tr th:only-of-type {\n",
       "        vertical-align: middle;\n",
       "    }\n",
       "\n",
       "    .dataframe tbody tr th {\n",
       "        vertical-align: top;\n",
       "    }\n",
       "\n",
       "    .dataframe thead th {\n",
       "        text-align: right;\n",
       "    }\n",
       "</style>\n",
       "<table border=\"1\" class=\"dataframe\">\n",
       "  <thead>\n",
       "    <tr style=\"text-align: right;\">\n",
       "      <th></th>\n",
       "      <th>Group</th>\n",
       "      <th>Count</th>\n",
       "      <th>Count %</th>\n",
       "      <th>0</th>\n",
       "      <th>1</th>\n",
       "      <th>2</th>\n",
       "      <th>3</th>\n",
       "      <th>4</th>\n",
       "      <th>5</th>\n",
       "      <th>Anomaly_Score</th>\n",
       "    </tr>\n",
       "  </thead>\n",
       "  <tbody>\n",
       "    <tr>\n",
       "      <th>0</th>\n",
       "      <td>Normal</td>\n",
       "      <td>475</td>\n",
       "      <td>95.0</td>\n",
       "      <td>2.00</td>\n",
       "      <td>2.01</td>\n",
       "      <td>2.01</td>\n",
       "      <td>1.99</td>\n",
       "      <td>2.01</td>\n",
       "      <td>1.98</td>\n",
       "      <td>-0.11</td>\n",
       "    </tr>\n",
       "    <tr>\n",
       "      <th>1</th>\n",
       "      <td>Outlier</td>\n",
       "      <td>25</td>\n",
       "      <td>5.0</td>\n",
       "      <td>0.45</td>\n",
       "      <td>-0.21</td>\n",
       "      <td>-0.47</td>\n",
       "      <td>-0.23</td>\n",
       "      <td>-0.03</td>\n",
       "      <td>-0.06</td>\n",
       "      <td>0.18</td>\n",
       "    </tr>\n",
       "  </tbody>\n",
       "</table>\n",
       "</div>"
      ],
      "text/plain": [
       "     Group  Count  Count %     0     1     2     3     4     5  Anomaly_Score\n",
       "0   Normal    475     95.0  2.00  2.01  2.01  1.99  2.01  1.98          -0.11\n",
       "1  Outlier     25      5.0  0.45 -0.21 -0.47 -0.23 -0.03 -0.06           0.18"
      ]
     },
     "execution_count": 18,
     "metadata": {},
     "output_type": "execute_result"
    }
   ],
   "source": [
    "threshold = isft.threshold_\n",
    "\n",
    "descriptive_stat_threshold(X_train, y_train_scores, threshold)"
   ]
  },
  {
   "cell_type": "code",
   "execution_count": 19,
   "metadata": {},
   "outputs": [
    {
     "data": {
      "text/html": [
       "<div>\n",
       "<style scoped>\n",
       "    .dataframe tbody tr th:only-of-type {\n",
       "        vertical-align: middle;\n",
       "    }\n",
       "\n",
       "    .dataframe tbody tr th {\n",
       "        vertical-align: top;\n",
       "    }\n",
       "\n",
       "    .dataframe thead th {\n",
       "        text-align: right;\n",
       "    }\n",
       "</style>\n",
       "<table border=\"1\" class=\"dataframe\">\n",
       "  <thead>\n",
       "    <tr style=\"text-align: right;\">\n",
       "      <th></th>\n",
       "      <th>Group</th>\n",
       "      <th>Count</th>\n",
       "      <th>Count %</th>\n",
       "      <th>0</th>\n",
       "      <th>1</th>\n",
       "      <th>2</th>\n",
       "      <th>3</th>\n",
       "      <th>4</th>\n",
       "      <th>5</th>\n",
       "      <th>Anomaly_Score</th>\n",
       "    </tr>\n",
       "  </thead>\n",
       "  <tbody>\n",
       "    <tr>\n",
       "      <th>0</th>\n",
       "      <td>Normal</td>\n",
       "      <td>473</td>\n",
       "      <td>94.6</td>\n",
       "      <td>2.01</td>\n",
       "      <td>2.01</td>\n",
       "      <td>2.01</td>\n",
       "      <td>1.99</td>\n",
       "      <td>2.01</td>\n",
       "      <td>2.00</td>\n",
       "      <td>-0.10</td>\n",
       "    </tr>\n",
       "    <tr>\n",
       "      <th>1</th>\n",
       "      <td>Outlier</td>\n",
       "      <td>27</td>\n",
       "      <td>5.4</td>\n",
       "      <td>0.19</td>\n",
       "      <td>-0.34</td>\n",
       "      <td>-0.07</td>\n",
       "      <td>0.09</td>\n",
       "      <td>0.08</td>\n",
       "      <td>0.29</td>\n",
       "      <td>0.17</td>\n",
       "    </tr>\n",
       "  </tbody>\n",
       "</table>\n",
       "</div>"
      ],
      "text/plain": [
       "     Group  Count  Count %     0     1     2     3     4     5  Anomaly_Score\n",
       "0   Normal    473     94.6  2.01  2.01  2.01  1.99  2.01  2.00          -0.10\n",
       "1  Outlier     27      5.4  0.19 -0.34 -0.07  0.09  0.08  0.29           0.17"
      ]
     },
     "execution_count": 19,
     "metadata": {},
     "output_type": "execute_result"
    }
   ],
   "source": [
    "descriptive_stat_threshold(X_test, y_test_scores, threshold)"
   ]
  },
  {
   "cell_type": "code",
   "execution_count": 21,
   "metadata": {},
   "outputs": [
    {
     "data": {
      "text/html": [
       "<div>\n",
       "<style scoped>\n",
       "    .dataframe tbody tr th:only-of-type {\n",
       "        vertical-align: middle;\n",
       "    }\n",
       "\n",
       "    .dataframe tbody tr th {\n",
       "        vertical-align: top;\n",
       "    }\n",
       "\n",
       "    .dataframe thead th {\n",
       "        text-align: right;\n",
       "    }\n",
       "</style>\n",
       "<table border=\"1\" class=\"dataframe\">\n",
       "  <thead>\n",
       "    <tr style=\"text-align: right;\">\n",
       "      <th>pred</th>\n",
       "      <th>0</th>\n",
       "      <th>1</th>\n",
       "    </tr>\n",
       "    <tr>\n",
       "      <th>actual</th>\n",
       "      <th></th>\n",
       "      <th></th>\n",
       "    </tr>\n",
       "  </thead>\n",
       "  <tbody>\n",
       "    <tr>\n",
       "      <th>0.0</th>\n",
       "      <td>475</td>\n",
       "      <td>0</td>\n",
       "    </tr>\n",
       "    <tr>\n",
       "      <th>1.0</th>\n",
       "      <td>0</td>\n",
       "      <td>25</td>\n",
       "    </tr>\n",
       "  </tbody>\n",
       "</table>\n",
       "</div>"
      ],
      "text/plain": [
       "pred      0   1\n",
       "actual         \n",
       "0.0     475   0\n",
       "1.0       0  25"
      ]
     },
     "execution_count": 21,
     "metadata": {},
     "output_type": "execute_result"
    }
   ],
   "source": [
    "confusion_matrix_threshold(y_train, y_train_scores, threshold)"
   ]
  },
  {
   "cell_type": "code",
   "execution_count": 22,
   "metadata": {},
   "outputs": [
    {
     "data": {
      "text/html": [
       "<div>\n",
       "<style scoped>\n",
       "    .dataframe tbody tr th:only-of-type {\n",
       "        vertical-align: middle;\n",
       "    }\n",
       "\n",
       "    .dataframe tbody tr th {\n",
       "        vertical-align: top;\n",
       "    }\n",
       "\n",
       "    .dataframe thead th {\n",
       "        text-align: right;\n",
       "    }\n",
       "</style>\n",
       "<table border=\"1\" class=\"dataframe\">\n",
       "  <thead>\n",
       "    <tr style=\"text-align: right;\">\n",
       "      <th>pred</th>\n",
       "      <th>0</th>\n",
       "      <th>1</th>\n",
       "    </tr>\n",
       "    <tr>\n",
       "      <th>actual</th>\n",
       "      <th></th>\n",
       "      <th></th>\n",
       "    </tr>\n",
       "  </thead>\n",
       "  <tbody>\n",
       "    <tr>\n",
       "      <th>0.0</th>\n",
       "      <td>473</td>\n",
       "      <td>2</td>\n",
       "    </tr>\n",
       "    <tr>\n",
       "      <th>1.0</th>\n",
       "      <td>0</td>\n",
       "      <td>25</td>\n",
       "    </tr>\n",
       "  </tbody>\n",
       "</table>\n",
       "</div>"
      ],
      "text/plain": [
       "pred      0   1\n",
       "actual         \n",
       "0.0     473   2\n",
       "1.0       0  25"
      ]
     },
     "execution_count": 22,
     "metadata": {},
     "output_type": "execute_result"
    }
   ],
   "source": [
    "confusion_matrix_threshold(y_test, y_test_scores, threshold)"
   ]
  },
  {
   "cell_type": "markdown",
   "metadata": {},
   "source": [
    "## Step 4: Averages\n",
    "\n",
    "### Analyzing the Impact of Different Number of Trees in Isolation Forest\n",
    "\n",
    "The provided code evaluates the performance of the Isolation Forest algorithm across varying numbers of trees (`n_estimators`). Let's break down the key steps:\n",
    "\n",
    "1. **Importing Necessary Libraries**:\n",
    "    ```python\n",
    "    from pyod.models.combination import aom, moa, average, maximization\n",
    "    from pyod.utils.utility import standardizer\n",
    "    from pyod.models.iforest import IForest\n",
    "    ```\n",
    "    The code starts by importing various utilities and models. The primary focus here is the `IForest`, which represents the Isolation Forest model, and `standardizer` for data normalization.\n",
    "\n",
    "2. **Data Standardization**:\n",
    "    ```python\n",
    "    X_train_norm, X_test_norm = standardizer(X_train, X_test)\n",
    "    ```\n",
    "    Given that machine learning models often perform better on standardized data, the training and testing datasets are normalized. This ensures each feature has a mean of zero and a standard deviation of one.\n",
    "\n",
    "3. **Defining the Range for Number of Trees**:\n",
    "    ```python\n",
    "    k_list = [20, 30, 40, 50, 60, 100, 200, 300, 400, 500]\n",
    "    n_clf = len(k_list)\n",
    "    ```\n",
    "    A list of values is established to represent different numbers of trees that the model will be tested against. This list will be iterated over, and for each value, an Isolation Forest will be trained and its performance noted.\n",
    "\n",
    "4. **Initializing Placeholders for Results**:\n",
    "    ```python\n",
    "    train_scores = np.zeros([X_train.shape[0], n_clf])\n",
    "    test_scores = np.zeros([X_test.shape[0], n_clf])\n",
    "    ```\n",
    "    Arrays are initialized to store the anomaly scores (decision scores) for each model iteration, both for the training and testing datasets.\n",
    "\n",
    "5. **Training and Evaluating Models**:\n",
    "    ```python\n",
    "    for i in range(n_clf):\n",
    "        k = k_list[i]\n",
    "        isft = IForest(contamination=0.05, n_estimators=k)\n",
    "        isft.fit(X_train_norm)\n",
    "        train_scores[:, i] = isft.decision_function(X_train_norm)\n",
    "        test_scores[:, i] = isft.decision_function(X_test_norm)\n",
    "    ```\n",
    "    For each specified number of trees in `k_list`, an Isolation Forest model is instantiated and trained. Post-training, the model's decision function is called to obtain the anomaly scores for both the training and test datasets. These scores are stored in their respective arrays.\n",
    "\n",
    "6. **Final Data Standardization**:\n",
    "    ```python\n",
    "    train_scores_norm, test_scores_norm = standardizer(train_scores, test_scores)\n",
    "    ```\n",
    "    After obtaining decision scores across all the models, it's vital to standardize these scores, especially if one plans to compare or combine them in subsequent steps.\n",
    "\n",
    "In summary, this code provides a systematic approach to understand the impact of different numbers of trees on the Isolation Forest's performance. By examining a range of values, one can ascertain the optimal number of trees that provides the best balance between detection capability and computational efficiency for a given dataset.\n"
   ]
  },
  {
   "cell_type": "code",
   "execution_count": 26,
   "metadata": {},
   "outputs": [],
   "source": [
    "from pyod.models.combination import aom, moa, average, maximization\n",
    "from pyod.utils.utility import standardizer\n",
    "from pyod.models.iforest import IForest\n",
    "\n",
    "# Standardize data\n",
    "X_train_norm, X_test_norm = standardizer(X_train, X_test)\n",
    "\n",
    "# Test a range of maximum samples\n",
    "k_list = [20, 30, 40, 50, 60, 100, 200, 300, 400, 500]\n",
    "n_clf = len(k_list)\n",
    "\n",
    "# Prepare DataFrames to store results\n",
    "train_scores = np.zeros([X_train.shape[0], n_clf])\n",
    "test_scores = np.zeros([X_test.shape[0], n_clf])\n",
    "\n",
    "# Modeling\n",
    "for i in range(n_clf):\n",
    "    k = k_list[i]\n",
    "\n",
    "    isft = IForest(contamination=0.05, n_estimators=k)\n",
    "    isft.fit(X_train_norm)\n",
    "\n",
    "    # Store the results in each column:\n",
    "    train_scores[:, i] = isft.decision_function(X_train_norm)\n",
    "    test_scores[:, i] = isft.decision_function(X_test_norm)\n",
    "\n",
    "# Decision scores have to be normalized before combination\n",
    "train_scores_norm, test_scores_norm = standardizer(train_scores, test_scores)"
   ]
  },
  {
   "cell_type": "code",
   "execution_count": 29,
   "metadata": {},
   "outputs": [
    {
     "data": {
      "image/png": "[encoded data removed]",
      "text/plain": [
       "<Figure size 640x480 with 1 Axes>"
      ]
     },
     "metadata": {},
     "output_type": "display_data"
    }
   ],
   "source": [
    "# Combination by average\n",
    "y_train_by_average = average(train_scores_norm)\n",
    "y_test_by_average = average(test_scores_norm)\n",
    "\n",
    "plt.hist(y_train_by_average, bins='auto')\n",
    "plt.title('Combination by average')\n",
    "plt.show()"
   ]
  },
  {
   "cell_type": "code",
   "execution_count": 30,
   "metadata": {},
   "outputs": [
    {
     "data": {
      "text/html": [
       "<div>\n",
       "<style scoped>\n",
       "    .dataframe tbody tr th:only-of-type {\n",
       "        vertical-align: middle;\n",
       "    }\n",
       "\n",
       "    .dataframe tbody tr th {\n",
       "        vertical-align: top;\n",
       "    }\n",
       "\n",
       "    .dataframe thead th {\n",
       "        text-align: right;\n",
       "    }\n",
       "</style>\n",
       "<table border=\"1\" class=\"dataframe\">\n",
       "  <thead>\n",
       "    <tr style=\"text-align: right;\">\n",
       "      <th></th>\n",
       "      <th>Group</th>\n",
       "      <th>Count</th>\n",
       "      <th>Count %</th>\n",
       "      <th>0</th>\n",
       "      <th>1</th>\n",
       "      <th>2</th>\n",
       "      <th>3</th>\n",
       "      <th>4</th>\n",
       "      <th>5</th>\n",
       "      <th>Anomaly_Score</th>\n",
       "    </tr>\n",
       "  </thead>\n",
       "  <tbody>\n",
       "    <tr>\n",
       "      <th>0</th>\n",
       "      <td>Normal</td>\n",
       "      <td>475</td>\n",
       "      <td>95.0</td>\n",
       "      <td>2.00</td>\n",
       "      <td>2.01</td>\n",
       "      <td>2.01</td>\n",
       "      <td>1.99</td>\n",
       "      <td>2.01</td>\n",
       "      <td>1.98</td>\n",
       "      <td>-0.21</td>\n",
       "    </tr>\n",
       "    <tr>\n",
       "      <th>1</th>\n",
       "      <td>Outlier</td>\n",
       "      <td>25</td>\n",
       "      <td>5.0</td>\n",
       "      <td>0.45</td>\n",
       "      <td>-0.21</td>\n",
       "      <td>-0.47</td>\n",
       "      <td>-0.23</td>\n",
       "      <td>-0.03</td>\n",
       "      <td>-0.06</td>\n",
       "      <td>4.05</td>\n",
       "    </tr>\n",
       "  </tbody>\n",
       "</table>\n",
       "</div>"
      ],
      "text/plain": [
       "     Group  Count  Count %     0     1     2     3     4     5  Anomaly_Score\n",
       "0   Normal    475     95.0  2.00  2.01  2.01  1.99  2.01  1.98          -0.21\n",
       "1  Outlier     25      5.0  0.45 -0.21 -0.47 -0.23 -0.03 -0.06           4.05"
      ]
     },
     "execution_count": 30,
     "metadata": {},
     "output_type": "execute_result"
    }
   ],
   "source": [
    "descriptive_stat_threshold(X_train, y_train_by_average, 1.0)"
   ]
  },
  {
   "cell_type": "code",
   "execution_count": 31,
   "metadata": {},
   "outputs": [
    {
     "data": {
      "text/html": [
       "<div>\n",
       "<style scoped>\n",
       "    .dataframe tbody tr th:only-of-type {\n",
       "        vertical-align: middle;\n",
       "    }\n",
       "\n",
       "    .dataframe tbody tr th {\n",
       "        vertical-align: top;\n",
       "    }\n",
       "\n",
       "    .dataframe thead th {\n",
       "        text-align: right;\n",
       "    }\n",
       "</style>\n",
       "<table border=\"1\" class=\"dataframe\">\n",
       "  <thead>\n",
       "    <tr style=\"text-align: right;\">\n",
       "      <th></th>\n",
       "      <th>Group</th>\n",
       "      <th>Count</th>\n",
       "      <th>Count %</th>\n",
       "      <th>0</th>\n",
       "      <th>1</th>\n",
       "      <th>2</th>\n",
       "      <th>3</th>\n",
       "      <th>4</th>\n",
       "      <th>5</th>\n",
       "      <th>Anomaly_Score</th>\n",
       "    </tr>\n",
       "  </thead>\n",
       "  <tbody>\n",
       "    <tr>\n",
       "      <th>0</th>\n",
       "      <td>Normal</td>\n",
       "      <td>472</td>\n",
       "      <td>94.4</td>\n",
       "      <td>2.01</td>\n",
       "      <td>2.01</td>\n",
       "      <td>2.01</td>\n",
       "      <td>1.99</td>\n",
       "      <td>2.01</td>\n",
       "      <td>2.00</td>\n",
       "      <td>-0.19</td>\n",
       "    </tr>\n",
       "    <tr>\n",
       "      <th>1</th>\n",
       "      <td>Outlier</td>\n",
       "      <td>28</td>\n",
       "      <td>5.6</td>\n",
       "      <td>0.24</td>\n",
       "      <td>-0.26</td>\n",
       "      <td>0.02</td>\n",
       "      <td>0.17</td>\n",
       "      <td>0.17</td>\n",
       "      <td>0.33</td>\n",
       "      <td>3.81</td>\n",
       "    </tr>\n",
       "  </tbody>\n",
       "</table>\n",
       "</div>"
      ],
      "text/plain": [
       "     Group  Count  Count %     0     1     2     3     4     5  Anomaly_Score\n",
       "0   Normal    472     94.4  2.01  2.01  2.01  1.99  2.01  2.00          -0.19\n",
       "1  Outlier     28      5.6  0.24 -0.26  0.02  0.17  0.17  0.33           3.81"
      ]
     },
     "execution_count": 31,
     "metadata": {},
     "output_type": "execute_result"
    }
   ],
   "source": [
    "descriptive_stat_threshold(X_test, y_test_by_average, 1.0)"
   ]
  }
 ],
 "metadata": {
  "kernelspec": {
   "display_name": ".anomaly_venv",
   "language": "python",
   "name": "python3"
  },
  "language_info": {
   "codemirror_mode": {
    "name": "ipython",
    "version": 3
   },
   "file_extension": ".py",
   "mimetype": "text/x-python",
   "name": "python",
   "nbconvert_exporter": "python",
   "pygments_lexer": "ipython3",
   "version": "3.9.16"
  },
  "orig_nbformat": 4
 },
 "nbformat": 4,
 "nbformat_minor": 2
}
