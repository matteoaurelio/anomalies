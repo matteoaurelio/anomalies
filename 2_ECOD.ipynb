{
 "cells": [
  {
   "cell_type": "markdown",
   "metadata": {},
   "source": [
    "## ECOD Algorithm\n",
    "\n",
    "**The Basic Idea**: \n",
    "Outliers can be thought of as rare events in a dataset. If we imagine our dataset as a landscape, these rare events are like remote islands. In terms of a probability distribution (the landscape's shape), outliers usually sit in areas with very low probabilities, often at the far ends (or tails) of the distribution.\n",
    "\n",
    "**Unimodal Distribution**: \n",
    "If our distribution has just one peak (it's unimodal), then the outliers are typically found at the extreme ends or tails.\n",
    "\n",
    "**ECOD Method**: \n",
    "This method determines how \"extreme\" or rare a data point is by calculating its tail probabilities. It's like asking, \"How likely is it to find a point as extreme as this?\"\n",
    "\n",
    "**Joint Cumulative Distribution Function (CDF)**: \n",
    "This function calculates the probability of events happening simultaneously across multiple dimensions or features. For a given data point, the CDF tells us the probability of seeing values less than or equal to that point across all dimensions.\n",
    "\n",
    "**Interpreting CDF**:\n",
    "The value from the CDF tells us about the \"extremeness\" on the left side (lower values). A smaller CDF value means the data point is more extreme on the left. Conversely, \\(1-\\) CDF value tells us about the \"extremeness\" on the right side (higher values).\n",
    "\n",
    "**Estimating the CDF**:\n",
    "In reality, we don't know the exact CDF; we only have our data to estimate it. The challenge is, as you have more dimensions (features), it's harder to estimate the joint CDF accurately. So, the solution proposed is to assume each dimension is independent of the others, simplifying our estimation task.\n",
    "\n",
    "**Empirical CDF (ECDF)**: \n",
    "To estimate the CDF for each dimension, they use the ECDF. This is a non-parametric way to estimate the CDF using the actual data points. They compute this separately for the left and right tails.\n",
    "\n",
    "**Important Note**:\n",
    "When calculating the right tail, they ensure they use a strict inequality (i.e., > instead of ≥) to maintain symmetry with the left tail estimation.\n",
    "\n",
    "**ECOD's Process**:\n",
    "1. Calculate the left and right tail ECDFs for each dimension.\n",
    "2. For each data point, combine its tail probabilities to create a final \"outlier score\". This score tells us how likely the point is to be an outlier. A higher score means it's more likely to be an outlier.\n",
    "\n",
    "**Aggregation**:\n",
    "The challenge is how to combine (or aggregate) these probabilities. It's not just about taking left or right tails separately. When you have many dimensions, there are numerous combinations. ECOD smartly uses the \"skewness\" of each dimension to decide whether to consider the left or the right tail probability.\n",
    "\n",
    "In essence, ECOD uses a data-driven approach to look at the tails of the distribution across multiple dimensions to identify outliers. The method involves estimating probabilities and intelligently combining them to produce a score that indicates the likelihood of a point being an outlier."
   ]
  },
  {
   "cell_type": "markdown",
   "metadata": {},
   "source": [
    "## Finding Outliers Using Skewness\n",
    "\n",
    "### Main Idea\n",
    "When searching for outliers in multi-dimensional data, merely looking at the extreme left or extreme right of every dimension might miss some outliers. Depending on the nature of the data distribution in each dimension, sometimes it's better to look at the left, and other times, at the right. The question is: how do we decide?\n",
    "\n",
    "### Using Skewness\n",
    "Skewness is a measure that tells us about the shape of the data distribution:\n",
    "- **Negatively Skewed**: The data tail stretches more to the left.\n",
    "- **Positively Skewed**: The tail stretches to the right.\n",
    "\n",
    "### An Example\n",
    "Imagine a two-dimensional plot:\n",
    "- **Normal Points**: Clustered at the top right (in blue)\n",
    "- **Outliers**: Scatter uniformly (in red)\n",
    "\n",
    "1. Using the **left tail** to find outliers works great because outliers are to the left of the main cluster.\n",
    "2. Using the **right tail** fails since it wrongly classifies large normal points as outliers.\n",
    "3. **Averaging results** from both tails gives mixed results—some real outliers are found, but some normal points are wrongly classified.\n",
    "\n",
    "If the dataset were flipped (normal points at the bottom left and outliers at the top right), then using the right tail would be a better choice.\n",
    "\n",
    "### Skewness Solution\n",
    "To tackle this, we use the skewness of each dimension:\n",
    "- For **negative skewness**, focus on the left tail.\n",
    "- For **positive skewness**, focus on the right tail.\n",
    "\n",
    "This way, by aligning the search for outliers with the skewness of the data, we can spot the real outliers more accurately.\n",
    "\n",
    "### Calculating Skewness\n",
    "Skewness for each dimension can be computed using:\n",
    "\n",
    "$`\\gamma_j = \\frac{\\sum_{i=1}^{n}(X^{(j)}_i - \\bar{X}^{(j)})^3 / n}{(\\sum_{i=1}^{n}(X^{(j)}_i - \\bar{X}^{(j)})^2 / (n-1))^{3/2}}`$\n",
    "\n",
    "Where:\n",
    "- $`\\gamma_j`$ is the skewness for the j-th dimension.\n",
    "- $`X^{(j)}_i`$ is the i-th data point in the j-th dimension.\n",
    "- $`\\bar{X}^{(j)}`$ is the average of the j-th dimension.\n",
    "\n",
    "Based on $`\\gamma_j`$:\n",
    "- If $`\\gamma_j < 0`$, the data in the j-th dimension is negatively skewed. Focus on the left tail.\n",
    "- If $`\\gamma_j > 0`$, focus on the right tail.\n",
    "\n",
    "### Final Outlier Score\n",
    "The outlier score for each point is calculated using the negative logarithm of the tail probability. The score can:\n",
    "- Focus on the left,\n",
    "- Focus on the right,\n",
    "- Or use skewness to decide which tail to consider for each dimension.\n",
    "\n",
    "In essence, this method provides a way to intelligently search for outliers by aligning with the natural skewness of each dimension.\n"
   ]
  },
  {
   "cell_type": "markdown",
   "metadata": {},
   "source": [
    "Skewness gives us information about the direction and amount of skew (departure from horizontal symmetry) in the data. Let's break it down with a simple numerical example.\n",
    "\n",
    "Let's consider a set of numbers: \n",
    "$`X = \\{2, 3, 4, 5, 6, 7, 8, 9, 10, 20\\}`$\n",
    "\n",
    "Clearly, the number 20 is a right outlier in this dataset.\n",
    "\n",
    "1. **Mean Calculation**: \n",
    "$`\\bar{X} = \\frac{2 + 3 + 4 + 5 + 6 + 7 + 8 + 9 + 10 + 20}{10} = 7.4`$\n",
    "\n",
    "2. **Numerator of Skewness**: It is the mean of the cubed differences from the mean.\n",
    "$`\\sum_{i=1}^{n}(X_i - \\bar{X})^3 / n`$\n",
    "Using the provided dataset, the sum of the cubed differences from the mean can be significantly influenced by the outlier (20). Since 20 is greater than the mean, the value of $`(20-7.4)^3`$ is large and positive.\n",
    "\n",
    "3. **Denominator of Skewness**: It is essentially the standard deviation of the dataset raised to the third power. It gives an indication of the spread of the dataset.\n",
    "$`(\\sum_{i=1}^{n}(X_i - \\bar{X})^2 / (n-1))^{3/2}`$\n",
    "This is mostly influenced by the dispersion of the numbers around the mean, rather than by outliers.\n",
    "\n",
    "4. **Skewness Calculation**:\n",
    "When you divide the numerator by the denominator:\n",
    "$`\\gamma = \\frac{\\text{Mean of cubed differences from the mean}}{\\text{Standard deviation cubed}}`$\n",
    "Given that the numerator is influenced by our right outlier, the skewness value will turn out to be positive. A positive value indicates that the tail is stretching more towards the right, implying a right-skewed distribution.\n",
    "\n",
    "If the outlier were on the left, for instance, if our dataset was:\n",
    "$`X = \\{2, 3, 4, 5, 6, 7, 8, 9, -10, 10\\}`$\n",
    "The skewness would turn out to be negative because the large, negative cubed difference from the mean (for -10) would pull down the mean of the cubed differences, leading to a left-skewed distribution.\n",
    "\n",
    "In essence:\n",
    "- **Negative Skewness** indicates that the tail is stretched further to the left, not the right. This implies the presence of outliers or a cluster of data points on the left.\n",
    "- **Positive Skewness** indicates that the tail is stretched further to the right, not the left. This implies the presence of outliers or a cluster of data points on the right.\n",
    "\n",
    "This is a simplification and for real-world data, we'd consider various factors, but this gives a basic understanding of why skewness behaves the way it does.\n"
   ]
  },
  {
   "cell_type": "markdown",
   "metadata": {},
   "source": [
    "## Gamma Distribution\n",
    "\n",
    "The gamma distribution is a continuous probability distribution that is used in various scientific disciplines such as hydrology, queueing theory, and finance. The gamma distribution can be thought of as a generalization of the exponential distribution and the Erlang distribution.\n",
    "\n",
    "Mathematically, the probability density function (PDF) of the gamma distribution is given by:\n",
    "\n",
    "$`f(x|\\alpha,\\beta) = \\frac{\\beta^\\alpha x^{\\alpha-1} e^{-\\beta x}}{\\Gamma(\\alpha)}`$\n",
    "\n",
    "for $`x > 0`$, $`\\alpha, \\beta > 0`$, and where $`\\Gamma(\\alpha)`$ is the gamma function.\n",
    "\n",
    "Here:\n",
    "- $`\\alpha`$ is the shape parameter.\n",
    "- $`\\beta`$ is the rate parameter which is the inverse of the scale parameter. So, if you know the scale (often denoted as $`\\theta`$), then $`\\beta = 1/\\theta`$.\n",
    "\n",
    "The parameters control the shape and scale of the distribution:\n",
    "\n",
    "- **Shape ($`\\alpha`$)**: Determines the overall shape of the distribution. When $`\\alpha = 1`$, the gamma distribution becomes the exponential distribution. As $`\\alpha`$ increases, the distribution becomes more symmetric.\n",
    "  \n",
    "- **Scale ($`\\theta`$ or its inverse, the rate $`\\beta`$)**: Determines the spread or stretch of the distribution. Larger values of $`\\theta`$ (or smaller values of $`\\beta`$) will stretch the distribution, while smaller values of $`\\theta`$ (or larger values of $`\\beta`$) will squeeze or contract it.\n"
   ]
  },
  {
   "cell_type": "code",
   "execution_count": 1,
   "metadata": {},
   "outputs": [
    {
     "data": {
      "image/png": "[encoded data removed]",
      "text/plain": [
       "<Figure size 640x480 with 1 Axes>"
      ]
     },
     "metadata": {},
     "output_type": "display_data"
    }
   ],
   "source": [
    "import matplotlib.pyplot as plt\n",
    "import numpy as np\n",
    "from numpy.random import gamma\n",
    "\n",
    "# Generate data\n",
    "shape1, scale1 = 2, 2\n",
    "shape2, scale2 = 9, 2\n",
    "shape3, scale3 = 2, 9\n",
    "\n",
    "s1 = gamma(shape1, scale1, 1000)\n",
    "s2 = gamma(shape2, scale2, 1000)\n",
    "s3 = gamma(shape3, scale3, 1000)\n",
    "\n",
    "# Plot histograms\n",
    "plt.hist(s1, bins=50, alpha=0.5, label=f'shape={shape1}, scale={scale1}')\n",
    "plt.hist(s2, bins=50, alpha=0.5, label=f'shape={shape2}, scale={scale2}')\n",
    "plt.hist(s3, bins=50, alpha=0.5, label=f'shape={shape3}, scale={scale3}')\n",
    "\n",
    "plt.legend()\n",
    "plt.title(\"Gamma Distribution with Different Shape and Scale\")\n",
    "plt.xlabel(\"Value\")\n",
    "plt.ylabel(\"Frequency\")\n",
    "plt.show()"
   ]
  },
  {
   "cell_type": "markdown",
   "metadata": {},
   "source": [
    "In the above example, we generate a dataset of 1000 numbers for each of the three distributions and plot histograms for visualization.\n",
    "\n",
    "### Interpretation:\n",
    "shape=2, scale=2: This would give a distribution that starts from 0, peaks at a certain value, and then decays. Since the shape is relatively low, the distribution won't be too peaky.\n",
    "\n",
    "shape=9, scale=2: By increasing the shape while keeping the scale constant, the distribution becomes more peaky and the peak shifts to the right.\n",
    "\n",
    "shape=2, scale=9: Keeping the shape constant and increasing the scale stretches the distribution on the x-axis. The peak will not be as high, and the distribution will spread out more.\n",
    "\n",
    "From the visualizations, you'll notice:\n",
    "\n",
    "As shape increases, the distribution becomes more symmetric and peaky.\n",
    "As scale increases, the distribution stretches out on the x-axis, spreading the values over a broader range."
   ]
  },
  {
   "cell_type": "markdown",
   "metadata": {},
   "source": [
    "Given a standard normal distribution (a bell curve), we have the following properties:\n",
    "\n",
    "- About 68% of the data falls within 1 standard deviation ($`\\sigma`$) from the mean ($`\\mu`$).\n",
    "- Roughly 95% falls within 2 standard deviations.\n",
    "- About 99.7% is within 3 standard deviations.\n",
    "\n",
    "Using the above, if we have a mean ($`\\mu`$) of 0 and a standard deviation ($`\\sigma`$) of 5:\n",
    "\n",
    "- 68% of the data will be between $`\\mu - \\sigma`$ and $`\\mu + \\sigma`$: -5 to 5.\n",
    "- 95% of the data will be between $`\\mu - 2\\sigma`$ and $`\\mu + 2\\sigma`$: -10 to 10.\n",
    "- 99.7% of the data will be between $`\\mu - 3\\sigma`$ and $`\\mu + 3\\sigma`$: -15 to 15.\n"
   ]
  },
  {
   "cell_type": "code",
   "execution_count": 2,
   "metadata": {},
   "outputs": [],
   "source": [
    "# Create a combined distribution\n",
    "import matplotlib.pyplot as plt\n",
    "import numpy as np\n",
    "from numpy.random import normal, gamma"
   ]
  },
  {
   "cell_type": "code",
   "execution_count": 3,
   "metadata": {},
   "outputs": [
    {
     "data": {
      "image/png": "[encoded data removed]",
      "text/plain": [
       "<Figure size 640x480 with 1 Axes>"
      ]
     },
     "metadata": {},
     "output_type": "display_data"
    }
   ],
   "source": [
    "shape, scale = 10, 2.\n",
    "s1 = gamma(shape, scale, 1000)\n",
    "s2 = gamma(shape * 2, scale * 2, 1000)\n",
    "s3 = normal(loc=0, scale=5, size=1000)\n",
    "\n",
    "sample = np.hstack((s1, s2, s3))\n",
    "\n",
    "plt.hist(sample, bins=50)\n",
    "plt.show()"
   ]
  },
  {
   "cell_type": "code",
   "execution_count": 4,
   "metadata": {},
   "outputs": [
    {
     "data": {
      "image/png": "[encoded data removed]",
      "text/plain": [
       "<Figure size 640x480 with 1 Axes>"
      ]
     },
     "metadata": {},
     "output_type": "display_data"
    }
   ],
   "source": [
    "from statsmodels.distributions.empirical_distribution import ECDF\n",
    "\n",
    "sample_ecdf = ECDF(sample)\n",
    "plt.plot(sample_ecdf.x, sample_ecdf.y)\n",
    "plt.show()"
   ]
  },
  {
   "cell_type": "code",
   "execution_count": 5,
   "metadata": {},
   "outputs": [
    {
     "name": "stdout",
     "output_type": "stream",
     "text": [
      "P(x<-20): 0.0000\n",
      "P(x<-2): 0.1307\n",
      "P(x<0): 0.1807\n",
      "P(x<25): 0.5957\n",
      "P(x<50): 0.6743\n",
      "P(x<75): 0.8097\n",
      "P(x<100): 0.9617\n",
      "P(x<125): 0.9963\n",
      "P(x<140): 0.9997\n",
      "P(x<150): 1.0000\n"
     ]
    }
   ],
   "source": [
    "print('P(x<-20): %.4f' % sample_ecdf(-20))\n",
    "print('P(x<-2): %.4f' % sample_ecdf(-2))\n",
    "print('P(x<0): %.4f' % sample_ecdf(0))\n",
    "print('P(x<25): %.4f' % sample_ecdf(25))\n",
    "print('P(x<50): %.4f' % sample_ecdf(50))\n",
    "print('P(x<75): %.4f' % sample_ecdf(75))\n",
    "print('P(x<100): %.4f' % sample_ecdf(100))\n",
    "print('P(x<125): %.4f' % sample_ecdf(125))\n",
    "print('P(x<140): %.4f' % sample_ecdf(140))\n",
    "print('P(x<150): %.4f' % sample_ecdf(150))"
   ]
  },
  {
   "cell_type": "code",
   "execution_count": 6,
   "metadata": {},
   "outputs": [
    {
     "data": {
      "text/html": [
       "<div>\n",
       "<style scoped>\n",
       "    .dataframe tbody tr th:only-of-type {\n",
       "        vertical-align: middle;\n",
       "    }\n",
       "\n",
       "    .dataframe tbody tr th {\n",
       "        vertical-align: top;\n",
       "    }\n",
       "\n",
       "    .dataframe thead th {\n",
       "        text-align: right;\n",
       "    }\n",
       "</style>\n",
       "<table border=\"1\" class=\"dataframe\">\n",
       "  <thead>\n",
       "    <tr style=\"text-align: right;\">\n",
       "      <th></th>\n",
       "      <th>0</th>\n",
       "      <th>1</th>\n",
       "      <th>2</th>\n",
       "      <th>3</th>\n",
       "      <th>4</th>\n",
       "      <th>5</th>\n",
       "    </tr>\n",
       "  </thead>\n",
       "  <tbody>\n",
       "    <tr>\n",
       "      <th>0</th>\n",
       "      <td>2.396090</td>\n",
       "      <td>2.092611</td>\n",
       "      <td>2.073392</td>\n",
       "      <td>1.988262</td>\n",
       "      <td>1.953473</td>\n",
       "      <td>2.450997</td>\n",
       "    </tr>\n",
       "    <tr>\n",
       "      <th>1</th>\n",
       "      <td>1.631040</td>\n",
       "      <td>1.746182</td>\n",
       "      <td>1.898050</td>\n",
       "      <td>2.380148</td>\n",
       "      <td>1.967332</td>\n",
       "      <td>1.858916</td>\n",
       "    </tr>\n",
       "    <tr>\n",
       "      <th>2</th>\n",
       "      <td>1.824683</td>\n",
       "      <td>2.131412</td>\n",
       "      <td>2.028829</td>\n",
       "      <td>1.703454</td>\n",
       "      <td>2.502966</td>\n",
       "      <td>2.119108</td>\n",
       "    </tr>\n",
       "    <tr>\n",
       "      <th>3</th>\n",
       "      <td>2.106098</td>\n",
       "      <td>2.165173</td>\n",
       "      <td>2.340826</td>\n",
       "      <td>2.170109</td>\n",
       "      <td>1.749139</td>\n",
       "      <td>1.678661</td>\n",
       "    </tr>\n",
       "    <tr>\n",
       "      <th>4</th>\n",
       "      <td>1.829647</td>\n",
       "      <td>1.775596</td>\n",
       "      <td>1.829438</td>\n",
       "      <td>2.054768</td>\n",
       "      <td>1.577190</td>\n",
       "      <td>1.594549</td>\n",
       "    </tr>\n",
       "  </tbody>\n",
       "</table>\n",
       "</div>"
      ],
      "text/plain": [
       "          0         1         2         3         4         5\n",
       "0  2.396090  2.092611  2.073392  1.988262  1.953473  2.450997\n",
       "1  1.631040  1.746182  1.898050  2.380148  1.967332  1.858916\n",
       "2  1.824683  2.131412  2.028829  1.703454  2.502966  2.119108\n",
       "3  2.106098  2.165173  2.340826  2.170109  1.749139  1.678661\n",
       "4  1.829647  1.775596  1.829438  2.054768  1.577190  1.594549"
      ]
     },
     "execution_count": 6,
     "metadata": {},
     "output_type": "execute_result"
    }
   ],
   "source": [
    "import numpy as np\n",
    "import pandas as pd\n",
    "import matplotlib.pyplot as plt\n",
    "from pyod.utils.data import generate_data\n",
    "\n",
    "contamination = 0.05 # percentage of outliers\n",
    "n_train = 500 # number of training rows\n",
    "n_test = 500 # number of testing rows\n",
    "n_features = 6 # number of columns or features\n",
    "\n",
    "\n",
    "X_train, X_test, y_train, y_test = generate_data(n_train=n_train,\n",
    "                                                n_test=n_test,\n",
    "                                                n_features=n_features,\n",
    "                                                contamination=contamination,\n",
    "                                                random_state=123)\n",
    "\n",
    "# Make the 2nd numpy array a DataFrame\n",
    "X_train_pd = pd.DataFrame(X_train)\n",
    "X_train_pd.head()"
   ]
  },
  {
   "cell_type": "code",
   "execution_count": 7,
   "metadata": {},
   "outputs": [
    {
     "data": {
      "image/png": "[encoded data removed]",
      "text/plain": [
       "<Figure size 640x480 with 1 Axes>"
      ]
     },
     "metadata": {},
     "output_type": "display_data"
    }
   ],
   "source": [
    "import utils\n",
    "\n",
    "utils.plot_data(X_train_pd, y_train)"
   ]
  },
  {
   "cell_type": "markdown",
   "metadata": {},
   "source": [
    "### Step 1: Build the Model"
   ]
  },
  {
   "cell_type": "markdown",
   "metadata": {},
   "source": [
    "The ECOD (Ensemble Consistent Outlier Detector) method from the pyod library is a method that aims to generate consistent outlier scores across subsamples. The contamination parameter specifies the proportion of outliers in the dataset (in your case, 5% or 0.05).\n",
    "\n",
    "The threshold value 16.320821760780653, isn't a percentage. It's the decision score threshold that determines what's considered an outlier and what isn't. Any data point with a decision score above this threshold is considered an outlier by the model."
   ]
  },
  {
   "cell_type": "code",
   "execution_count": 9,
   "metadata": {},
   "outputs": [
    {
     "name": "stdout",
     "output_type": "stream",
     "text": [
      "The training data: {0: 475, 1: 25}\n",
      "The testing data: {0: 473, 1: 27}\n",
      "The threshold for the defined contamination rate 16.320821760780653\n"
     ]
    }
   ],
   "source": [
    "from pyod.models.ecod import ECOD\n",
    "\n",
    "ecod = ECOD(contamination=0.05)\n",
    "ecod.fit(X_train)\n",
    "\n",
    "# Training data\n",
    "y_train_scores = ecod.decision_function(X_train)\n",
    "y_train_pred = ecod.predict(X_train)\n",
    "\n",
    "# Test data\n",
    "y_test_scores = ecod.decision_function(X_test)\n",
    "y_test_pred = ecod.predict(X_test)\n",
    "\n",
    "print(f'The training data: {utils.count_stat(y_train_pred)}')\n",
    "print(f'The testing data: {utils.count_stat(y_test_pred)}')\n",
    "print(f'The threshold for the defined contamination rate {ecod.threshold_}')\n"
   ]
  },
  {
   "cell_type": "code",
   "execution_count": 12,
   "metadata": {},
   "outputs": [
    {
     "data": {
      "text/plain": [
       "(array([475, 477, 478, 479, 480, 483, 484, 486, 488, 489, 490, 492, 494,\n",
       "        495, 496, 497, 498, 499]),)"
      ]
     },
     "execution_count": 12,
     "metadata": {},
     "output_type": "execute_result"
    }
   ],
   "source": [
    "np.where(y_train_scores > 22)"
   ]
  },
  {
   "cell_type": "markdown",
   "metadata": {},
   "source": [
    "### Explain Outlier Method\n",
    "\n",
    "On the x-axis we have each feature represented, and on the y-axis we have each univariate score for each feature. For 475, since we have all of them except one above the 0.95 cutoff band we conclude that this is an outlier."
   ]
  },
  {
   "cell_type": "code",
   "execution_count": 13,
   "metadata": {},
   "outputs": [
    {
     "data": {
      "image/png": "[encoded data removed]",
      "text/plain": [
       "<Figure size 640x480 with 1 Axes>"
      ]
     },
     "metadata": {},
     "output_type": "display_data"
    }
   ],
   "source": [
    "ecod.explain_outlier(475)"
   ]
  },
  {
   "cell_type": "code",
   "execution_count": 14,
   "metadata": {},
   "outputs": [
    {
     "data": {
      "image/png": "[encoded data removed]",
      "text/plain": [
       "<Figure size 640x480 with 1 Axes>"
      ]
     },
     "metadata": {},
     "output_type": "display_data"
    }
   ],
   "source": [
    "ecod.explain_outlier(477)"
   ]
  },
  {
   "cell_type": "markdown",
   "metadata": {},
   "source": [
    "### Step 2: Determine the threshold"
   ]
  },
  {
   "cell_type": "markdown",
   "metadata": {},
   "source": [
    "In most cases, we do not know the percentage of outliers. We can instead use the outlier score which measures already the deviation of an outlier from normal data. We can use the histogram of outlier score to define a reasonable threshold value. <br>\n",
    "\n",
    "Instances with higher scores than the threshold will determine the size of the outlier. <br>\n",
    "\n",
    "If any prior knowledge suggests that the percentage of anomalies should not be more than 1%, you can choose a threshold that results in approximately 1% of the anomalies. <br>"
   ]
  },
  {
   "cell_type": "code",
   "execution_count": 15,
   "metadata": {},
   "outputs": [
    {
     "data": {
      "image/png": "[encoded data removed]",
      "text/plain": [
       "<Figure size 640x480 with 1 Axes>"
      ]
     },
     "metadata": {},
     "output_type": "display_data"
    }
   ],
   "source": [
    "plt.hist(y_train_scores, bins=\"auto\")\n",
    "plt.title(\"Outlier score\")\n",
    "plt.show()"
   ]
  },
  {
   "cell_type": "markdown",
   "metadata": {},
   "source": [
    "We can set the threshold at 16.0 because there is a natural cut in the histogram. If we select a low value for the threshold, the count of outliers will be high."
   ]
  },
  {
   "cell_type": "code",
   "execution_count": 16,
   "metadata": {},
   "outputs": [
    {
     "data": {
      "text/html": [
       "<div>\n",
       "<style scoped>\n",
       "    .dataframe tbody tr th:only-of-type {\n",
       "        vertical-align: middle;\n",
       "    }\n",
       "\n",
       "    .dataframe tbody tr th {\n",
       "        vertical-align: top;\n",
       "    }\n",
       "\n",
       "    .dataframe thead th {\n",
       "        text-align: right;\n",
       "    }\n",
       "</style>\n",
       "<table border=\"1\" class=\"dataframe\">\n",
       "  <thead>\n",
       "    <tr style=\"text-align: right;\">\n",
       "      <th></th>\n",
       "      <th>Group</th>\n",
       "      <th>0</th>\n",
       "      <th>1</th>\n",
       "      <th>2</th>\n",
       "      <th>3</th>\n",
       "      <th>4</th>\n",
       "      <th>5</th>\n",
       "      <th>count</th>\n",
       "      <th>Anomaly_Score</th>\n",
       "      <th>count_perc</th>\n",
       "    </tr>\n",
       "  </thead>\n",
       "  <tbody>\n",
       "    <tr>\n",
       "      <th>0</th>\n",
       "      <td>Normal</td>\n",
       "      <td>2.002636</td>\n",
       "      <td>2.010650</td>\n",
       "      <td>2.003762</td>\n",
       "      <td>1.991297</td>\n",
       "      <td>2.009442</td>\n",
       "      <td>1.984327</td>\n",
       "      <td>473</td>\n",
       "      <td>9.369008</td>\n",
       "      <td>94.6</td>\n",
       "    </tr>\n",
       "    <tr>\n",
       "      <th>1</th>\n",
       "      <td>Outlier</td>\n",
       "      <td>0.575888</td>\n",
       "      <td>-0.033391</td>\n",
       "      <td>-0.244842</td>\n",
       "      <td>-0.064563</td>\n",
       "      <td>0.097871</td>\n",
       "      <td>0.105026</td>\n",
       "      <td>27</td>\n",
       "      <td>22.360763</td>\n",
       "      <td>5.4</td>\n",
       "    </tr>\n",
       "  </tbody>\n",
       "</table>\n",
       "</div>"
      ],
      "text/plain": [
       "     Group         0         1         2         3         4         5  count  \\\n",
       "0   Normal  2.002636  2.010650  2.003762  1.991297  2.009442  1.984327    473   \n",
       "1  Outlier  0.575888 -0.033391 -0.244842 -0.064563  0.097871  0.105026     27   \n",
       "\n",
       "   Anomaly_Score  count_perc  \n",
       "0       9.369008        94.6  \n",
       "1      22.360763         5.4  "
      ]
     },
     "execution_count": 16,
     "metadata": {},
     "output_type": "execute_result"
    }
   ],
   "source": [
    "threshold = 16\n",
    "\n",
    "utils.descriptive_stat_threshold(X_train, y_train_scores, threshold)"
   ]
  },
  {
   "cell_type": "markdown",
   "metadata": {},
   "source": [
    "The table shows that the anomaly_score for the outliers is much higher than those for the normal group. The % count of the anomaly group is 5.4%. For each group, we have also different means between the normal group and the outlier group."
   ]
  },
  {
   "cell_type": "code",
   "execution_count": 28,
   "metadata": {},
   "outputs": [
    {
     "data": {
      "text/html": [
       "<div>\n",
       "<style scoped>\n",
       "    .dataframe tbody tr th:only-of-type {\n",
       "        vertical-align: middle;\n",
       "    }\n",
       "\n",
       "    .dataframe tbody tr th {\n",
       "        vertical-align: top;\n",
       "    }\n",
       "\n",
       "    .dataframe thead th {\n",
       "        text-align: right;\n",
       "    }\n",
       "</style>\n",
       "<table border=\"1\" class=\"dataframe\">\n",
       "  <thead>\n",
       "    <tr style=\"text-align: right;\">\n",
       "      <th>predicted</th>\n",
       "      <th>0</th>\n",
       "      <th>1</th>\n",
       "    </tr>\n",
       "    <tr>\n",
       "      <th>actual</th>\n",
       "      <th></th>\n",
       "      <th></th>\n",
       "    </tr>\n",
       "  </thead>\n",
       "  <tbody>\n",
       "    <tr>\n",
       "      <th>0.0</th>\n",
       "      <td>475</td>\n",
       "      <td>0</td>\n",
       "    </tr>\n",
       "    <tr>\n",
       "      <th>1.0</th>\n",
       "      <td>0</td>\n",
       "      <td>25</td>\n",
       "    </tr>\n",
       "  </tbody>\n",
       "</table>\n",
       "</div>"
      ],
      "text/plain": [
       "predicted    0   1\n",
       "actual            \n",
       "0.0        475   0\n",
       "1.0          0  25"
      ]
     },
     "execution_count": 28,
     "metadata": {},
     "output_type": "execute_result"
    }
   ],
   "source": [
    "def confusion_matrix(actual, pred):\n",
    "    df = pd.DataFrame({'actual': actual, 'predicted': pred})\n",
    "    return pd.crosstab(df['actual'], df['predicted'])\n",
    "\n",
    "confusion_matrix(y_train, y_train_pred)"
   ]
  },
  {
   "cell_type": "code",
   "execution_count": 32,
   "metadata": {},
   "outputs": [
    {
     "data": {
      "text/html": [
       "<div>\n",
       "<style scoped>\n",
       "    .dataframe tbody tr th:only-of-type {\n",
       "        vertical-align: middle;\n",
       "    }\n",
       "\n",
       "    .dataframe tbody tr th {\n",
       "        vertical-align: top;\n",
       "    }\n",
       "\n",
       "    .dataframe thead th {\n",
       "        text-align: right;\n",
       "    }\n",
       "</style>\n",
       "<table border=\"1\" class=\"dataframe\">\n",
       "  <thead>\n",
       "    <tr style=\"text-align: right;\">\n",
       "      <th>predicted</th>\n",
       "      <th>0</th>\n",
       "      <th>1</th>\n",
       "    </tr>\n",
       "    <tr>\n",
       "      <th>actual</th>\n",
       "      <th></th>\n",
       "      <th></th>\n",
       "    </tr>\n",
       "  </thead>\n",
       "  <tbody>\n",
       "    <tr>\n",
       "      <th>0.0</th>\n",
       "      <td>473</td>\n",
       "      <td>2</td>\n",
       "    </tr>\n",
       "    <tr>\n",
       "      <th>1.0</th>\n",
       "      <td>0</td>\n",
       "      <td>25</td>\n",
       "    </tr>\n",
       "  </tbody>\n",
       "</table>\n",
       "</div>"
      ],
      "text/plain": [
       "predicted    0   1\n",
       "actual            \n",
       "0.0        473   2\n",
       "1.0          0  25"
      ]
     },
     "execution_count": 32,
     "metadata": {},
     "output_type": "execute_result"
    }
   ],
   "source": [
    "confusion_matrix(y_test, y_test_pred)"
   ]
  },
  {
   "cell_type": "markdown",
   "metadata": {},
   "source": [
    "Confusion matrices help us to understand the model performance"
   ]
  },
  {
   "cell_type": "markdown",
   "metadata": {},
   "source": [
    "### Two Models: HBOS and ECOD \n",
    "\n",
    "* We can cross-tabulate with two models and assess if the outlier is being predicted by both, then it's likely to be correct"
   ]
  },
  {
   "cell_type": "code",
   "execution_count": 35,
   "metadata": {},
   "outputs": [],
   "source": [
    "from pyod.models.hbos import HBOS\n",
    "\n",
    "# Computes individual histograms for each feature and assigns score based on frequency\n",
    "\n",
    "n_bins = 50\n",
    "hbos = HBOS(n_bins=n_bins, contamination=0.05)\n",
    "hbos.fit(X_train)\n",
    "y_train_hbos_pred = hbos.labels_ # predictions for the training data\n",
    "y_test_hbos_pred = hbos.predict(X_test)\n",
    "y_train_hbos_scores = hbos.decision_function(X_train)\n",
    "y_test_hbos_scores = hbos.decision_function(X_test)\n",
    "\n"
   ]
  },
  {
   "cell_type": "code",
   "execution_count": 37,
   "metadata": {},
   "outputs": [
    {
     "data": {
      "text/plain": [
       "[16.320821760780653, 5.563712646460526]"
      ]
     },
     "execution_count": 37,
     "metadata": {},
     "output_type": "execute_result"
    }
   ],
   "source": [
    "from pyod.models.ecod import ECOD\n",
    "\n",
    "# Non-parametric, uses skewness to check where outliers truly lie\n",
    "\n",
    "clf_name = 'ECOD'\n",
    "ecod = ECOD(contamination=0.05)\n",
    "ecod.fit(X_train)\n",
    "y_train_ecod_pred = ecod.labels_\n",
    "y_test_ecod_pred = ecod.predict(X_test)\n",
    "y_train_ecod_scores = ecod.decision_scores_\n",
    "y_test_ecod_scores = ecod.decision_function(X_test)\n",
    "\n",
    "\n",
    "# Thresholds\n",
    "[ecod.threshold_, hbos.threshold_] # for each model, check the anomaly score that represents the threshold\n",
    "\n"
   ]
  },
  {
   "cell_type": "code",
   "execution_count": 38,
   "metadata": {},
   "outputs": [
    {
     "data": {
      "text/html": [
       "<div>\n",
       "<style scoped>\n",
       "    .dataframe tbody tr th:only-of-type {\n",
       "        vertical-align: middle;\n",
       "    }\n",
       "\n",
       "    .dataframe tbody tr th {\n",
       "        vertical-align: top;\n",
       "    }\n",
       "\n",
       "    .dataframe thead th {\n",
       "        text-align: right;\n",
       "    }\n",
       "</style>\n",
       "<table border=\"1\" class=\"dataframe\">\n",
       "  <thead>\n",
       "    <tr style=\"text-align: right;\">\n",
       "      <th></th>\n",
       "      <th>actual</th>\n",
       "      <th>HBOS_pred</th>\n",
       "      <th>ECOD_pred</th>\n",
       "    </tr>\n",
       "  </thead>\n",
       "  <tbody>\n",
       "    <tr>\n",
       "      <th>0</th>\n",
       "      <td>0.0</td>\n",
       "      <td>0</td>\n",
       "      <td>0</td>\n",
       "    </tr>\n",
       "    <tr>\n",
       "      <th>1</th>\n",
       "      <td>0.0</td>\n",
       "      <td>0</td>\n",
       "      <td>0</td>\n",
       "    </tr>\n",
       "    <tr>\n",
       "      <th>2</th>\n",
       "      <td>0.0</td>\n",
       "      <td>0</td>\n",
       "      <td>0</td>\n",
       "    </tr>\n",
       "    <tr>\n",
       "      <th>3</th>\n",
       "      <td>0.0</td>\n",
       "      <td>0</td>\n",
       "      <td>0</td>\n",
       "    </tr>\n",
       "    <tr>\n",
       "      <th>4</th>\n",
       "      <td>0.0</td>\n",
       "      <td>0</td>\n",
       "      <td>0</td>\n",
       "    </tr>\n",
       "  </tbody>\n",
       "</table>\n",
       "</div>"
      ],
      "text/plain": [
       "   actual  HBOS_pred  ECOD_pred\n",
       "0     0.0          0          0\n",
       "1     0.0          0          0\n",
       "2     0.0          0          0\n",
       "3     0.0          0          0\n",
       "4     0.0          0          0"
      ]
     },
     "execution_count": 38,
     "metadata": {},
     "output_type": "execute_result"
    }
   ],
   "source": [
    "results = pd.DataFrame({'actual': y_test, 'HBOS_pred': y_test_hbos_pred, 'ECOD_pred': y_test_ecod_pred})\n",
    "\n",
    "results.head()"
   ]
  },
  {
   "cell_type": "markdown",
   "metadata": {},
   "source": [
    "## Model Accuracy: \n",
    "\n",
    "We can compute the accuracy and also the False Positives"
   ]
  },
  {
   "cell_type": "code",
   "execution_count": 40,
   "metadata": {},
   "outputs": [
    {
     "data": {
      "text/plain": [
       "{'HBOS': {'accuracy': 99.8, 'false_positives': 0.2},\n",
       " 'ECOD': {'accuracy': 99.6, 'false_positives': 0.4}}"
      ]
     },
     "execution_count": 40,
     "metadata": {},
     "output_type": "execute_result"
    }
   ],
   "source": [
    "def compute_metric(results: pd.DataFrame, model_name: str) -> dict:\n",
    "    \"\"\"Compute accuracy and false positives for the given model against actual labels\"\"\"\n",
    "    accuracy = (results['actual'] == results[model_name]).mean() * 100\n",
    "    fp = (sum((results['actual'] == 0) & (results[model_name] == 1)) / len(results)) * 100\n",
    "    return {'accuracy': accuracy, 'false_positives': fp}\n",
    "\n",
    "def evaluate_models(results: pd.DataFrame, models: list) -> dict:\n",
    "    \"\"\"Evaluate accuracy and false positives for a list of models.\"\"\"\n",
    "    metrics = {}\n",
    "    for model in models:\n",
    "        metrics[model] = compute_metric(results, model + '_pred')\n",
    "    return metrics\n",
    "\n",
    "metrics = evaluate_models(results, ['HBOS', 'ECOD'])\n",
    "\n",
    "metrics\n"
   ]
  },
  {
   "cell_type": "code",
   "execution_count": 41,
   "metadata": {},
   "outputs": [
    {
     "data": {
      "text/html": [
       "<div>\n",
       "<style scoped>\n",
       "    .dataframe tbody tr th:only-of-type {\n",
       "        vertical-align: middle;\n",
       "    }\n",
       "\n",
       "    .dataframe tbody tr th {\n",
       "        vertical-align: top;\n",
       "    }\n",
       "\n",
       "    .dataframe thead th {\n",
       "        text-align: right;\n",
       "    }\n",
       "</style>\n",
       "<table border=\"1\" class=\"dataframe\">\n",
       "  <thead>\n",
       "    <tr style=\"text-align: right;\">\n",
       "      <th>ECOD_pred</th>\n",
       "      <th>0</th>\n",
       "      <th>1</th>\n",
       "    </tr>\n",
       "    <tr>\n",
       "      <th>HBOS_pred</th>\n",
       "      <th></th>\n",
       "      <th></th>\n",
       "    </tr>\n",
       "  </thead>\n",
       "  <tbody>\n",
       "    <tr>\n",
       "      <th>0</th>\n",
       "      <td>473</td>\n",
       "      <td>1</td>\n",
       "    </tr>\n",
       "    <tr>\n",
       "      <th>1</th>\n",
       "      <td>0</td>\n",
       "      <td>26</td>\n",
       "    </tr>\n",
       "  </tbody>\n",
       "</table>\n",
       "</div>"
      ],
      "text/plain": [
       "ECOD_pred    0   1\n",
       "HBOS_pred         \n",
       "0          473   1\n",
       "1            0  26"
      ]
     },
     "execution_count": 41,
     "metadata": {},
     "output_type": "execute_result"
    }
   ],
   "source": [
    "# It's also important to know if both models claim the same \"outliers\"\n",
    "\n",
    "pd.crosstab(results['HBOS_pred'], results['ECOD_pred'])\n"
   ]
  },
  {
   "cell_type": "markdown",
   "metadata": {},
   "source": [
    "Both models generally agree on which instances are outliers except for 1. We can state that HBOS and ECOD models generate consistent results."
   ]
  }
 ],
 "metadata": {
  "kernelspec": {
   "display_name": "anom_venv",
   "language": "python",
   "name": "python3"
  },
  "language_info": {
   "codemirror_mode": {
    "name": "ipython",
    "version": 3
   },
   "file_extension": ".py",
   "mimetype": "text/x-python",
   "name": "python",
   "nbconvert_exporter": "python",
   "pygments_lexer": "ipython3",
   "version": "3.9.16"
  },
  "orig_nbformat": 4
 },
 "nbformat": 4,
 "nbformat_minor": 2
}
