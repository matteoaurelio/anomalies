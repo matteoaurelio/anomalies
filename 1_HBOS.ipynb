{
 "cells": [
  {
   "cell_type": "markdown",
   "metadata": {},
   "source": [
    "## **Histogram-Based Outlier Score (HBOS)**\n",
    "\n",
    "HBOS is a swift and intuitive unsupervised anomaly detection algorithm, primarily crafted for high-dimensional datasets. Imagine it as having a heart-to-heart chat with your data using quaint little bars.\n",
    "\n",
    "### **🎨 How Does HBOS Sketch Your Data's Story?**\n",
    "\n",
    "1. **Univariate Histograms**: \n",
    "    * For each feature in your dataset, HBOS crafts a univariate histogram.\n",
    "    * These histograms are akin to capturing snapshots, each telling where most of the data feels most at home.\n",
    "\n",
    "2. **The Art of Outlier Scoring**:\n",
    "    * For each quaint data point, and each feature, pinpoint which bin our data point cozies up in.\n",
    "    * The height of this bin, or the count of data points in it, whispers how common or rare this value is. A bustling bin? It's a regular party spot for your data. A sparse bin? Seems like a more secluded, outlier-esque corner.\n",
    "    * Etch the score as \\( \\log(1/\\text{frequency}) \\). The more elusive the data point's value (for that feature), the closer this score snuggles to zero.\n",
    "\n",
    "3. **The Grand Summation**:\n",
    "    * Sum up the outlier scores from each feature to unveil a final score for our data point.\n",
    "    * A score deeply dipped in negatives? Ah, our data point is in familiar territory. A score nudging zero? That's a beacon of a potential outlier!\n",
    "\n",
    "### **🧐 The Charm of HBOS**\n",
    "\n",
    "* **Swift as the Wind**: Its speed is remarkable, especially when pitted against more cumbersome multivariate contenders.\n",
    "* **Simplicity at Heart**: HBOS is devoid of convoluted computations. It’s more of a breezy chat with your data rather than a prolonged tête-à-tête.\n",
    "* **Crystal Clear**: Its methodology is lucid and transparent. No murky mysteries here!\n",
    "\n",
    "### **🚀 When Should You Use HBOS?**\n",
    "\n",
    "HBOS shines with high-dimensional data, where traditionalists like clustering or nearest-neighbors would dawdle. But bear in mind, HBOS is a solo dancer; it treats each feature in isolation. So, if your data thrives on inter-feature camaraderie, perhaps another partner would be more fitting.\n",
    "\n",
    "---\n",
    "\n"
   ]
  },
  {
   "cell_type": "markdown",
   "metadata": {},
   "source": [
    "### Using PyOD libraries"
   ]
  },
  {
   "cell_type": "code",
   "execution_count": 31,
   "metadata": {},
   "outputs": [],
   "source": [
    "import numpy as np\n",
    "import pandas as pd\n",
    "from pyod.utils.data import generate_data"
   ]
  },
  {
   "cell_type": "code",
   "execution_count": 32,
   "metadata": {},
   "outputs": [
    {
     "data": {
      "text/html": [
       "<div>\n",
       "<style scoped>\n",
       "    .dataframe tbody tr th:only-of-type {\n",
       "        vertical-align: middle;\n",
       "    }\n",
       "\n",
       "    .dataframe tbody tr th {\n",
       "        vertical-align: top;\n",
       "    }\n",
       "\n",
       "    .dataframe thead th {\n",
       "        text-align: right;\n",
       "    }\n",
       "</style>\n",
       "<table border=\"1\" class=\"dataframe\">\n",
       "  <thead>\n",
       "    <tr style=\"text-align: right;\">\n",
       "      <th></th>\n",
       "      <th>0</th>\n",
       "      <th>1</th>\n",
       "      <th>2</th>\n",
       "      <th>3</th>\n",
       "      <th>4</th>\n",
       "      <th>5</th>\n",
       "    </tr>\n",
       "  </thead>\n",
       "  <tbody>\n",
       "    <tr>\n",
       "      <th>0</th>\n",
       "      <td>2.396090</td>\n",
       "      <td>2.092611</td>\n",
       "      <td>2.073392</td>\n",
       "      <td>1.988262</td>\n",
       "      <td>1.953473</td>\n",
       "      <td>2.450997</td>\n",
       "    </tr>\n",
       "    <tr>\n",
       "      <th>1</th>\n",
       "      <td>1.631040</td>\n",
       "      <td>1.746182</td>\n",
       "      <td>1.898050</td>\n",
       "      <td>2.380148</td>\n",
       "      <td>1.967332</td>\n",
       "      <td>1.858916</td>\n",
       "    </tr>\n",
       "    <tr>\n",
       "      <th>2</th>\n",
       "      <td>1.824683</td>\n",
       "      <td>2.131412</td>\n",
       "      <td>2.028829</td>\n",
       "      <td>1.703454</td>\n",
       "      <td>2.502966</td>\n",
       "      <td>2.119108</td>\n",
       "    </tr>\n",
       "    <tr>\n",
       "      <th>3</th>\n",
       "      <td>2.106098</td>\n",
       "      <td>2.165173</td>\n",
       "      <td>2.340826</td>\n",
       "      <td>2.170109</td>\n",
       "      <td>1.749139</td>\n",
       "      <td>1.678661</td>\n",
       "    </tr>\n",
       "    <tr>\n",
       "      <th>4</th>\n",
       "      <td>1.829647</td>\n",
       "      <td>1.775596</td>\n",
       "      <td>1.829438</td>\n",
       "      <td>2.054768</td>\n",
       "      <td>1.577190</td>\n",
       "      <td>1.594549</td>\n",
       "    </tr>\n",
       "  </tbody>\n",
       "</table>\n",
       "</div>"
      ],
      "text/plain": [
       "          0         1         2         3         4         5\n",
       "0  2.396090  2.092611  2.073392  1.988262  1.953473  2.450997\n",
       "1  1.631040  1.746182  1.898050  2.380148  1.967332  1.858916\n",
       "2  1.824683  2.131412  2.028829  1.703454  2.502966  2.119108\n",
       "3  2.106098  2.165173  2.340826  2.170109  1.749139  1.678661\n",
       "4  1.829647  1.775596  1.829438  2.054768  1.577190  1.594549"
      ]
     },
     "execution_count": 32,
     "metadata": {},
     "output_type": "execute_result"
    }
   ],
   "source": [
    "X_train, X_test, y_train, y_test = generate_data(\n",
    "                                                n_train=500,\n",
    "                                                n_test=500,\n",
    "                                                n_features=6,\n",
    "                                                contamination=0.05, # percentage of outliers\n",
    "                                                random_state=123)\n",
    "\n",
    "X_train_pd = pd.DataFrame(X_train)\n",
    "\n",
    "X_train_pd.head()"
   ]
  },
  {
   "cell_type": "code",
   "execution_count": 34,
   "metadata": {},
   "outputs": [
    {
     "data": {
      "image/png": "[encoded data removed]",
      "text/plain": [
       "<Figure size 640x480 with 1 Axes>"
      ]
     },
     "metadata": {},
     "output_type": "display_data"
    }
   ],
   "source": [
    "# Plotting two features, the yellow dots represent the outlier points\n",
    "\n",
    "plt.scatter(X_train_pd[0], X_train_pd[1], c=y_train, alpha=0.8)\n",
    "plt.title(\"Scatter Plot\")\n",
    "plt.xlabel(\"x0\")\n",
    "plt.ylabel(\"x1\")\n",
    "plt.show()"
   ]
  },
  {
   "cell_type": "markdown",
   "metadata": {},
   "source": [
    "## **Understanding the `contamination` Parameter in HBOS**\n",
    "\n",
    "The `contamination` parameter holds significant charm when delving deep into anomaly detection algorithms. It’s akin to a compass, guiding the algorithm on its journey to discern the ordinary from the extraordinary. Let's break it down:\n",
    "\n",
    "### **1. The Essence of `contamination`**:\n",
    "- `contamination` unravels our expectations about the proportion of outliers in our dataset.\n",
    "    * 📌 For instance, setting `contamination` to 0.05 is like whispering to the algorithm: \"I reckon 5% of my data are outliers.\"\n",
    "\n",
    "### **2. The Role of `contamination`**:\n",
    "- Post the task of scoring each data instance based on its semblance to an anomaly, the scores are neatly arranged in order.\n",
    "- The majestic threshold (🔖 `hbos.threshold_` in your code) is then carved such that the scores of the top x% instances dance beyond this line, where x is the very contamination rate we set.\n",
    "    * 🎭 Think of it as a theatrical curtain: Only the top 5% of performers (anomaly scores) are unveiled if `contamination` is set to 0.05.\n",
    "\n",
    "### **3. The Prediction Ritual with the Threshold**:\n",
    "- Invoking the `predict()` function is like asking the algorithm to don its detective hat.\n",
    "    * 🔍 Any instance with an anomaly score that leaps above the threshold? Ah! That's an outlier and gets a badge of 1.\n",
    "    * 🌼 Those that remain below the threshold? They are the usual, familiar instances, earning a badge of 0.\n",
    "\n",
    "---\n",
    "\n",
    "📜 **In Summation**:\n",
    "\n",
    "`contamination` isn't just a parameter; it's a beacon. By lighting it at the desired intensity, we gently guide the algorithm across the vast landscape of our data, signaling where we suspect the outliers might lurk. It's like whispering secrets of our data, helping the algorithm tune its senses accordingly.\n"
   ]
  },
  {
   "cell_type": "code",
   "execution_count": 37,
   "metadata": {},
   "outputs": [
    {
     "name": "stdout",
     "output_type": "stream",
     "text": [
      "The threshold for the defined contamination rate: 5.563712646460526\n"
     ]
    }
   ],
   "source": [
    "# Build our model\n",
    "from pyod.models.hbos import HBOS\n",
    "\n",
    "# Hyperparameters\n",
    "n_bins = 50\n",
    "hbos = HBOS(n_bins=n_bins, contamination=0.05)\n",
    "hbos.fit(X_train)\n",
    "\n",
    "# Threshold is when we specify the \"contamination\" level of the data\n",
    "print(f\"The threshold for the defined contamination rate: {hbos.threshold_}\")\n"
   ]
  },
  {
   "cell_type": "code",
   "execution_count": 39,
   "metadata": {},
   "outputs": [],
   "source": [
    "# Training Data\n",
    "y_train_scores = hbos.decision_function(X_train)\n",
    "y_train_pred = hbos.predict(X_train)\n",
    "\n",
    "# Test Data\n",
    "# predict: outlier labels (0 or 1)\n",
    "y_test_scores = hbos.decision_function(X_test)\n",
    "y_test_pred = hbos.predict(X_test)"
   ]
  },
  {
   "cell_type": "code",
   "execution_count": 121,
   "metadata": {},
   "outputs": [
    {
     "data": {
      "text/plain": [
       "array([-3.32653726,  0.09314864, -2.52170724, -1.54007687, -2.48219458,\n",
       "       15.70661307, 15.26587619, 17.76962794, 13.99470088, 16.85944126,\n",
       "       17.08901445, 14.92813102, 16.64750208, 16.4753673 , 15.9730833 ,\n",
       "       14.96746324, 14.48583455, 16.38895523, 16.8593846 , 14.96746324,\n",
       "       17.09289967, 14.29990961, 17.53028396, 14.19642163, 16.47242688,\n",
       "       17.08886718, 17.55826415, 15.08660559, 15.77646537, 17.12939324])"
      ]
     },
     "execution_count": 121,
     "metadata": {},
     "output_type": "execute_result"
    }
   ],
   "source": [
    "y_train_scores[-30:]"
   ]
  },
  {
   "cell_type": "code",
   "execution_count": 40,
   "metadata": {},
   "outputs": [
    {
     "name": "stdout",
     "output_type": "stream",
     "text": [
      "The training data: {0: 475, 1: 25}\n",
      "The testing data: {0: 474, 1: 26}\n"
     ]
    }
   ],
   "source": [
    "def count_stat(vector):\n",
    "    # We get '0' and '1' so run the frequency for each vector\n",
    "    unique, counts = np.unique(vector, return_counts=True)\n",
    "    return dict(zip(unique, counts))\n",
    "\n",
    "print(f'The training data: {count_stat(y_train_pred)}')\n",
    "print(f'The testing data: {count_stat(y_test_pred)}')"
   ]
  },
  {
   "cell_type": "markdown",
   "metadata": {},
   "source": [
    "## **Outlier Threshold Adjustment in Unsupervised Learning**\n",
    "\n",
    "In unsupervised machine learning scenarios, pinpointing the precise number of outliers can be challenging. However, to improve model accuracy and precision, one can employ the following strategies:\n",
    "\n",
    "### **1. Sorting Anomaly Scores**:\n",
    "- Order anomaly scores from highest to lowest. This prioritization allows for an immediate focus on the most likely outliers.\n",
    "\n",
    "### **2. Visualization**:\n",
    "- Visualizing the distribution of anomaly scores can provide clarity on potential thresholds. Such visual aids can highlight patterns or inflection points that could serve as a basis for setting thresholds.\n",
    "\n",
    "### **3. Adjusting the Threshold**:\n",
    "- **Increasing the Threshold**:\n",
    "    * Elevating the threshold may lead to more conservative outlier detection, potentially reducing false positives.\n",
    "- **Decreasing the Threshold**:\n",
    "    * Reducing the threshold might capture more observations as anomalies, increasing the risk of misclassifying normal instances as outliers.\n",
    "\n",
    "---\n",
    "\n",
    "**Conclusion**:\n",
    "\n",
    "The key to successful anomaly detection in unsupervised learning lies in adjusting the threshold optimally. It's essential to balance the sensitivity and specificity of the model, ensuring that genuine outliers are detected without generating an excessive number of false alarms.\n"
   ]
  },
  {
   "cell_type": "code",
   "execution_count": 41,
   "metadata": {},
   "outputs": [
    {
     "data": {
      "image/png": "[encoded data removed]",
      "text/plain": [
       "<Figure size 640x480 with 1 Axes>"
      ]
     },
     "metadata": {},
     "output_type": "display_data"
    }
   ],
   "source": [
    "plt.hist(y_test_scores, bins='auto')\n",
    "plt.title('Histogram with \"auto\" bins')\n",
    "plt.xlabel('HBOS')\n",
    "plt.show()"
   ]
  },
  {
   "cell_type": "markdown",
   "metadata": {},
   "source": [
    "## **Determining Outliers through Histogram Analysis**\n",
    "\n",
    "Based on the insights derived from the histogram, a threshold of **5.5** is suggested for outlier detection. It's imperative to understand that:\n",
    "\n",
    "- The choice of this threshold inherently governs the percentage of instances classified as outliers within the dataset. \n",
    "\n",
    "Consequently, careful consideration and validation of the threshold are crucial to ensuring an accurate representation of the underlying data distribution.\n"
   ]
  },
  {
   "cell_type": "markdown",
   "metadata": {},
   "source": [
    "## **Function: `descriptive_stat_threshold`**\n",
    "\n",
    "This function computes descriptive statistics for anomaly detection, particularly focusing on differentiating between 'Normal' and 'Outlier' groups based on a given threshold.\n",
    "\n",
    "### **Parameters**:\n",
    "- **`df`**: The input dataframe.\n",
    "- **`pred_score`**: A series or array that contains the anomaly scores for each observation in `df`.\n",
    "- **`threshold`**: The cutoff value for classifying observations as 'Normal' or 'Outlier'.\n",
    "\n",
    "### **Process**:\n",
    "\n",
    "1. **Dataframe Creation**:\n",
    "   - The function ensures that `df` is a pandas dataframe.\n",
    "   - A new column, `Anomaly_Score`, is added to the dataframe, representing the anomaly scores for each observation.\n",
    "  \n",
    "2. **Classification into Groups**:\n",
    "   - Based on the given `threshold`, each observation is classified into one of two groups:\n",
    "     - **`Normal`**: For observations where the anomaly score is less than the threshold.\n",
    "     - **`Outlier`**: For observations where the anomaly score is equal to or exceeds the threshold.\n",
    "\n",
    "3. **Descriptive Statistics Calculation**:\n",
    "   - The data is grouped by either 'Normal' or 'Outlier' based on the assigned group from the previous step.\n",
    "   - For each group, the function computes:\n",
    "     - The count of observations.\n",
    "     - The mean anomaly score.\n",
    "   - The percentage representation (`count_perc`) of each group relative to the total number of observations is also calculated.\n",
    "   - Lastly, the mean anomaly score is rounded to two decimal places.\n",
    "\n",
    "### **Returns**:\n",
    "\n",
    "- A dataframe (`stat`) that provides a summary of the count, mean anomaly score, and percentage representation for both 'Normal' and 'Outlier' groups.\n"
   ]
  },
  {
   "cell_type": "code",
   "execution_count": 107,
   "metadata": {},
   "outputs": [],
   "source": [
    "def descriptive_stat_threshold(df,\n",
    "                                pred_score,\n",
    "                                threshold):\n",
    "    # Find out how many 0 and 1\n",
    "\n",
    "    \n",
    "    # Now let's show the summary statistics:\n",
    "    df = pd.DataFrame(df)\n",
    "    \n",
    "    df['Anomaly_Score'] = pred_score\n",
    "    df['Group'] = np.where(df['Anomaly_Score'] < threshold, 'Normal', 'Outlier')\n",
    "\n",
    "    # Summary Statistics\n",
    "\n",
    "    l = [col for col in df.columns if str(col).isdigit()]\n",
    "\n",
    "\n",
    "    agg_dict = {}\n",
    "    for col in l:\n",
    "             agg_dict[str(col)] = (col, \"mean\")\n",
    "\n",
    "\n",
    "    agg_dict['count'] = (\"Anomaly_Score\", \"count\")\n",
    "    agg_dict['Anomaly_Score'] = (\"Anomaly_Score\", \"mean\")\n",
    "\n",
    "    stat = df.groupby('Group', as_index=False).agg(**agg_dict).assign(count_perc=lambda x: (x['count'] / x['count'].sum()) * 100).round({'mean': 2})\n",
    "\n",
    "    return stat\n",
    "\n",
    "\n",
    "\n"
   ]
  },
  {
   "cell_type": "code",
   "execution_count": 108,
   "metadata": {},
   "outputs": [
    {
     "data": {
      "text/html": [
       "<div>\n",
       "<style scoped>\n",
       "    .dataframe tbody tr th:only-of-type {\n",
       "        vertical-align: middle;\n",
       "    }\n",
       "\n",
       "    .dataframe tbody tr th {\n",
       "        vertical-align: top;\n",
       "    }\n",
       "\n",
       "    .dataframe thead th {\n",
       "        text-align: right;\n",
       "    }\n",
       "</style>\n",
       "<table border=\"1\" class=\"dataframe\">\n",
       "  <thead>\n",
       "    <tr style=\"text-align: right;\">\n",
       "      <th></th>\n",
       "      <th>Group</th>\n",
       "      <th>0</th>\n",
       "      <th>1</th>\n",
       "      <th>2</th>\n",
       "      <th>3</th>\n",
       "      <th>4</th>\n",
       "      <th>5</th>\n",
       "      <th>count</th>\n",
       "      <th>Anomaly_Score</th>\n",
       "      <th>count_perc</th>\n",
       "    </tr>\n",
       "  </thead>\n",
       "  <tbody>\n",
       "    <tr>\n",
       "      <th>0</th>\n",
       "      <td>Normal</td>\n",
       "      <td>2.003067</td>\n",
       "      <td>2.011302</td>\n",
       "      <td>2.006399</td>\n",
       "      <td>1.991409</td>\n",
       "      <td>2.008367</td>\n",
       "      <td>1.984887</td>\n",
       "      <td>475</td>\n",
       "      <td>-1.276625</td>\n",
       "      <td>95.0</td>\n",
       "    </tr>\n",
       "    <tr>\n",
       "      <th>1</th>\n",
       "      <td>Outlier</td>\n",
       "      <td>0.453548</td>\n",
       "      <td>-0.209294</td>\n",
       "      <td>-0.474818</td>\n",
       "      <td>-0.231157</td>\n",
       "      <td>-0.034642</td>\n",
       "      <td>-0.055947</td>\n",
       "      <td>25</td>\n",
       "      <td>16.024400</td>\n",
       "      <td>5.0</td>\n",
       "    </tr>\n",
       "  </tbody>\n",
       "</table>\n",
       "</div>"
      ],
      "text/plain": [
       "     Group         0         1         2         3         4         5  count  \\\n",
       "0   Normal  2.003067  2.011302  2.006399  1.991409  2.008367  1.984887    475   \n",
       "1  Outlier  0.453548 -0.209294 -0.474818 -0.231157 -0.034642 -0.055947     25   \n",
       "\n",
       "   Anomaly_Score  count_perc  \n",
       "0      -1.276625        95.0  \n",
       "1      16.024400         5.0  "
      ]
     },
     "execution_count": 108,
     "metadata": {},
     "output_type": "execute_result"
    }
   ],
   "source": [
    "descriptive_stat_threshold(X_train, y_train_scores, hbos.threshold_)"
   ]
  },
  {
   "cell_type": "code",
   "execution_count": 109,
   "metadata": {},
   "outputs": [
    {
     "data": {
      "text/html": [
       "<div>\n",
       "<style scoped>\n",
       "    .dataframe tbody tr th:only-of-type {\n",
       "        vertical-align: middle;\n",
       "    }\n",
       "\n",
       "    .dataframe tbody tr th {\n",
       "        vertical-align: top;\n",
       "    }\n",
       "\n",
       "    .dataframe thead th {\n",
       "        text-align: right;\n",
       "    }\n",
       "</style>\n",
       "<table border=\"1\" class=\"dataframe\">\n",
       "  <thead>\n",
       "    <tr style=\"text-align: right;\">\n",
       "      <th></th>\n",
       "      <th>Group</th>\n",
       "      <th>0</th>\n",
       "      <th>1</th>\n",
       "      <th>2</th>\n",
       "      <th>3</th>\n",
       "      <th>4</th>\n",
       "      <th>5</th>\n",
       "      <th>count</th>\n",
       "      <th>Anomaly_Score</th>\n",
       "      <th>count_perc</th>\n",
       "    </tr>\n",
       "  </thead>\n",
       "  <tbody>\n",
       "    <tr>\n",
       "      <th>0</th>\n",
       "      <td>Normal</td>\n",
       "      <td>2.017510</td>\n",
       "      <td>2.012993</td>\n",
       "      <td>2.008979</td>\n",
       "      <td>1.988217</td>\n",
       "      <td>2.006077</td>\n",
       "      <td>2.002306</td>\n",
       "      <td>474</td>\n",
       "      <td>-1.054529</td>\n",
       "      <td>94.8</td>\n",
       "    </tr>\n",
       "    <tr>\n",
       "      <th>1</th>\n",
       "      <td>Outlier</td>\n",
       "      <td>0.056503</td>\n",
       "      <td>-0.430108</td>\n",
       "      <td>-0.116857</td>\n",
       "      <td>0.022105</td>\n",
       "      <td>0.019796</td>\n",
       "      <td>0.175088</td>\n",
       "      <td>26</td>\n",
       "      <td>16.646814</td>\n",
       "      <td>5.2</td>\n",
       "    </tr>\n",
       "  </tbody>\n",
       "</table>\n",
       "</div>"
      ],
      "text/plain": [
       "     Group         0         1         2         3         4         5  count  \\\n",
       "0   Normal  2.017510  2.012993  2.008979  1.988217  2.006077  2.002306    474   \n",
       "1  Outlier  0.056503 -0.430108 -0.116857  0.022105  0.019796  0.175088     26   \n",
       "\n",
       "   Anomaly_Score  count_perc  \n",
       "0      -1.054529        94.8  \n",
       "1      16.646814         5.2  "
      ]
     },
     "execution_count": 109,
     "metadata": {},
     "output_type": "execute_result"
    }
   ],
   "source": [
    "descriptive_stat_threshold(X_test,y_test_scores, hbos.threshold_)"
   ]
  },
  {
   "cell_type": "markdown",
   "metadata": {},
   "source": [
    "## **Function: `confusion_matrix`**\n",
    "\n",
    "The `confusion_matrix` function calculates the confusion matrix for actual vs. predicted values, based on a given threshold.\n",
    "\n",
    "### **Parameters**:\n",
    "- **`actual`**: The true labels or ground truth (usually 0 for 'Normal' and 1 for 'Outlier').\n",
    "- **`score`**: Predicted scores or probabilities for each observation.\n",
    "- **`threshold`**: The cutoff value for classifying observations. If the predicted score is less than or equal to this threshold, the observation is classified as 0, otherwise, it's classified as 1.\n",
    "\n",
    "### **Process**:\n",
    "\n",
    "1. **Dataframe Construction**:\n",
    "   - A new dataframe, `actual_pred`, is created with two columns: \n",
    "     - **`actual`**: Contains the true labels.\n",
    "     - **`pred`**: Contains the predicted scores or probabilities.\n",
    "\n",
    "2. **Classification based on Threshold**:\n",
    "   - For each predicted score in `actual_pred['pred']`:\n",
    "     - If the score is less than or equal to the threshold, it's set to 0.\n",
    "     - If the score is greater than the threshold, it's set to 1.\n",
    "\n",
    "3. **Constructing the Confusion Matrix**:\n",
    "   - Using the `pd.crosstab()` function, a confusion matrix is constructed. This function cross-tabulates the `actual` vs. `pred` columns, giving counts of the combinations (i.e., true positives, true negatives, false positives, and false negatives).\n",
    "\n",
    "### **Returns**:\n",
    "\n",
    "- A confusion matrix (`cm`) that displays the number of observations for each actual vs. predicted combination.\n"
   ]
  },
  {
   "cell_type": "code",
   "execution_count": 49,
   "metadata": {},
   "outputs": [],
   "source": [
    "def confusion_matrix(actual, score, threshold):\n",
    "    actual_pred = pd.DataFrame({'actual': actual, 'pred': score})\n",
    "\n",
    "    actual_pred['pred'] = np.where(actual_pred['pred'] <= threshold, 0, 1)\n",
    "\n",
    "    cm = pd.crosstab(actual_pred['actual'], actual_pred['pred'])\n",
    "    \n",
    "    return cm"
   ]
  },
  {
   "cell_type": "code",
   "execution_count": 52,
   "metadata": {},
   "outputs": [
    {
     "data": {
      "text/html": [
       "<div>\n",
       "<style scoped>\n",
       "    .dataframe tbody tr th:only-of-type {\n",
       "        vertical-align: middle;\n",
       "    }\n",
       "\n",
       "    .dataframe tbody tr th {\n",
       "        vertical-align: top;\n",
       "    }\n",
       "\n",
       "    .dataframe thead th {\n",
       "        text-align: right;\n",
       "    }\n",
       "</style>\n",
       "<table border=\"1\" class=\"dataframe\">\n",
       "  <thead>\n",
       "    <tr style=\"text-align: right;\">\n",
       "      <th>pred</th>\n",
       "      <th>0</th>\n",
       "      <th>1</th>\n",
       "    </tr>\n",
       "    <tr>\n",
       "      <th>actual</th>\n",
       "      <th></th>\n",
       "      <th></th>\n",
       "    </tr>\n",
       "  </thead>\n",
       "  <tbody>\n",
       "    <tr>\n",
       "      <th>0.0</th>\n",
       "      <td>475</td>\n",
       "      <td>0</td>\n",
       "    </tr>\n",
       "    <tr>\n",
       "      <th>1.0</th>\n",
       "      <td>0</td>\n",
       "      <td>25</td>\n",
       "    </tr>\n",
       "  </tbody>\n",
       "</table>\n",
       "</div>"
      ],
      "text/plain": [
       "pred      0   1\n",
       "actual         \n",
       "0.0     475   0\n",
       "1.0       0  25"
      ]
     },
     "execution_count": 52,
     "metadata": {},
     "output_type": "execute_result"
    }
   ],
   "source": [
    "confusion_matrix(y_train, y_train_scores, hbos.threshold_)"
   ]
  },
  {
   "cell_type": "code",
   "execution_count": 54,
   "metadata": {},
   "outputs": [
    {
     "data": {
      "text/html": [
       "<div>\n",
       "<style scoped>\n",
       "    .dataframe tbody tr th:only-of-type {\n",
       "        vertical-align: middle;\n",
       "    }\n",
       "\n",
       "    .dataframe tbody tr th {\n",
       "        vertical-align: top;\n",
       "    }\n",
       "\n",
       "    .dataframe thead th {\n",
       "        text-align: right;\n",
       "    }\n",
       "</style>\n",
       "<table border=\"1\" class=\"dataframe\">\n",
       "  <thead>\n",
       "    <tr style=\"text-align: right;\">\n",
       "      <th>pred</th>\n",
       "      <th>0</th>\n",
       "      <th>1</th>\n",
       "    </tr>\n",
       "    <tr>\n",
       "      <th>actual</th>\n",
       "      <th></th>\n",
       "      <th></th>\n",
       "    </tr>\n",
       "  </thead>\n",
       "  <tbody>\n",
       "    <tr>\n",
       "      <th>0.0</th>\n",
       "      <td>474</td>\n",
       "      <td>1</td>\n",
       "    </tr>\n",
       "    <tr>\n",
       "      <th>1.0</th>\n",
       "      <td>0</td>\n",
       "      <td>25</td>\n",
       "    </tr>\n",
       "  </tbody>\n",
       "</table>\n",
       "</div>"
      ],
      "text/plain": [
       "pred      0   1\n",
       "actual         \n",
       "0.0     474   1\n",
       "1.0       0  25"
      ]
     },
     "execution_count": 54,
     "metadata": {},
     "output_type": "execute_result"
    }
   ],
   "source": [
    "confusion_matrix(y_test,y_test_scores, hbos.threshold_)"
   ]
  },
  {
   "cell_type": "markdown",
   "metadata": {},
   "source": [
    "## **HBOS and the Importance of Binning**\n",
    "\n",
    "Histogram-based Outlier Score (HBOS) is an efficient unsupervised method used for anomaly detection. The technique relies on the idea that the data distribution is multidimensional, and histograms can be used for outlier detection in these dimensions.\n",
    "\n",
    "### **Why Binning is Crucial**:\n",
    "- HBOS's performance significantly depends on how the data is binned into histograms.\n",
    "- **Too Few Bins (Wide Ranges)**: This risks classifying outliers as normal because a broad bin might encapsulate both normal data points and anomalies.\n",
    "- **Too Many Bins (Narrow Ranges)**: The opposite problem arises. Normal data points might be isolated in their bins and classified as outliers.\n",
    "\n",
    "### Setting Up Different Bin Sizes:\n",
    "- A variety of bin sizes are defined for evaluation. This list ranges from smaller bin sizes (like 5) to much larger ones (up to 100).\n",
    "- Why multiple bin sizes? The binning strategy has a direct impact on the HBOS performance. Here's the nuance: if we use too few bins (i.e., broader ranges), there's a risk of classifying outliers as normal. On the other hand, if bins are too narrow, we might end up mislabeling typical points as outliers.\n",
    "\n",
    "### Initializing Arrays for Model Results:\n",
    "- Prior to training, dedicated arrays are prepared. These are designed to store the anomaly scores obtained for each binning strategy. One is for the training data, and the other is for the test data.\n",
    "\n",
    "### Training the Model Across Binning Strategies:\n",
    "- For each bin size defined earlier, the HBOS model is trained. Following this, the model's \"decision function\" or scoring mechanism is used to evaluate and assign anomaly scores to each data point.\n",
    "- These scores are saved systematically in the aforementioned arrays, with each column corresponding to a specific binning strategy.\n",
    "\n",
    "### Standardizing Decision Scores:\n",
    "- Once the modeling is complete, a secondary standardization phase is enacted. Here, all the decision scores extracted from the models trained with different binning strategies are standardized.\n",
    "- This step might raise eyebrows! But, its importance is in ensuring a consistent scale across all the scores, especially if there are plans for further analyses or combination of these scores.\n",
    "\n",
    "---\n",
    "\n",
    "\n"
   ]
  },
  {
   "cell_type": "code",
   "execution_count": 110,
   "metadata": {},
   "outputs": [],
   "source": [
    "from pyod.models.combination import aom, moa, average, maximization\n",
    "from pyod.utils.utility import standardizer\n",
    "from pyod.models.hbos import HBOS\n",
    "\n",
    "\n",
    "# Standardize data (z-score to have mean 0 and std of 1) ensuring that each feature contributes equally to the computation\n",
    "X_train_norm, X_test_norm = standardizer(X_train, X_test)\n",
    "\n",
    "# Test a range of binning \n",
    "k_list = [5, 10, 15, 20, 25, 30, 50, 60, 75, 100] # All possible bin ranges\n",
    "n_clf = len(k_list) \n",
    "\n",
    "# Prepare dataframes to store model results\n",
    "train_scores = np.zeros([X_train.shape[0], n_clf])\n",
    "test_scores = np.zeros([X_test.shape[0], n_clf])\n",
    "\n",
    "# Modeling\n",
    "for i in range(n_clf):\n",
    "    k = k_list[i]\n",
    "    hbos = HBOS(n_bins=k)\n",
    "    hbos.fit(X_train_norm)\n",
    "\n",
    "    # Store the results in each column:\n",
    "    train_scores[:, i] = hbos.decision_function(X_train_norm)\n",
    "    test_scores[:, i] = hbos.decision_function(X_test_norm)\n",
    "\n",
    "# Decision scores have to be normalized before combination\n",
    "train_scores_norm, test_scores_norm = standardizer(train_scores,test_scores)\n"
   ]
  },
  {
   "cell_type": "code",
   "execution_count": 111,
   "metadata": {},
   "outputs": [
    {
     "data": {
      "image/png": "[encoded data removed]",
      "text/plain": [
       "<Figure size 640x480 with 1 Axes>"
      ]
     },
     "metadata": {},
     "output_type": "display_data"
    }
   ],
   "source": [
    "# Combination by average\n",
    "# The test_scores_norm is 500 x 10. The \"average\" function will take the average of the 10 columns. The result \"y_by_average\" is a single column: \n",
    "y_train_by_average = average(train_scores_norm)\n",
    "y_test_by_average = average(test_scores_norm)\n",
    "\n",
    "plt.hist(y_train_by_average, bins='auto') # arguments are passed to np.histogram\n",
    "plt.title(\"Combination by average\")\n",
    "plt.show()"
   ]
  },
  {
   "cell_type": "code",
   "execution_count": 112,
   "metadata": {},
   "outputs": [
    {
     "data": {
      "text/html": [
       "<div>\n",
       "<style scoped>\n",
       "    .dataframe tbody tr th:only-of-type {\n",
       "        vertical-align: middle;\n",
       "    }\n",
       "\n",
       "    .dataframe tbody tr th {\n",
       "        vertical-align: top;\n",
       "    }\n",
       "\n",
       "    .dataframe thead th {\n",
       "        text-align: right;\n",
       "    }\n",
       "</style>\n",
       "<table border=\"1\" class=\"dataframe\">\n",
       "  <thead>\n",
       "    <tr style=\"text-align: right;\">\n",
       "      <th></th>\n",
       "      <th>Group</th>\n",
       "      <th>0</th>\n",
       "      <th>1</th>\n",
       "      <th>2</th>\n",
       "      <th>3</th>\n",
       "      <th>4</th>\n",
       "      <th>5</th>\n",
       "      <th>count</th>\n",
       "      <th>Anomaly_Score</th>\n",
       "      <th>count_perc</th>\n",
       "    </tr>\n",
       "  </thead>\n",
       "  <tbody>\n",
       "    <tr>\n",
       "      <th>0</th>\n",
       "      <td>Normal</td>\n",
       "      <td>2.003067</td>\n",
       "      <td>2.011302</td>\n",
       "      <td>2.006399</td>\n",
       "      <td>1.991409</td>\n",
       "      <td>2.008367</td>\n",
       "      <td>1.984887</td>\n",
       "      <td>475</td>\n",
       "      <td>-0.203090</td>\n",
       "      <td>95.0</td>\n",
       "    </tr>\n",
       "    <tr>\n",
       "      <th>1</th>\n",
       "      <td>Outlier</td>\n",
       "      <td>0.453548</td>\n",
       "      <td>-0.209294</td>\n",
       "      <td>-0.474818</td>\n",
       "      <td>-0.231157</td>\n",
       "      <td>-0.034642</td>\n",
       "      <td>-0.055947</td>\n",
       "      <td>25</td>\n",
       "      <td>3.858711</td>\n",
       "      <td>5.0</td>\n",
       "    </tr>\n",
       "  </tbody>\n",
       "</table>\n",
       "</div>"
      ],
      "text/plain": [
       "     Group         0         1         2         3         4         5  count  \\\n",
       "0   Normal  2.003067  2.011302  2.006399  1.991409  2.008367  1.984887    475   \n",
       "1  Outlier  0.453548 -0.209294 -0.474818 -0.231157 -0.034642 -0.055947     25   \n",
       "\n",
       "   Anomaly_Score  count_perc  \n",
       "0      -0.203090        95.0  \n",
       "1       3.858711         5.0  "
      ]
     },
     "execution_count": 112,
     "metadata": {},
     "output_type": "execute_result"
    }
   ],
   "source": [
    "descriptive_stat_threshold(X_train,y_train_by_average, 1.4)"
   ]
  },
  {
   "cell_type": "code",
   "execution_count": 113,
   "metadata": {},
   "outputs": [
    {
     "data": {
      "text/html": [
       "<div>\n",
       "<style scoped>\n",
       "    .dataframe tbody tr th:only-of-type {\n",
       "        vertical-align: middle;\n",
       "    }\n",
       "\n",
       "    .dataframe tbody tr th {\n",
       "        vertical-align: top;\n",
       "    }\n",
       "\n",
       "    .dataframe thead th {\n",
       "        text-align: right;\n",
       "    }\n",
       "</style>\n",
       "<table border=\"1\" class=\"dataframe\">\n",
       "  <thead>\n",
       "    <tr style=\"text-align: right;\">\n",
       "      <th></th>\n",
       "      <th>Group</th>\n",
       "      <th>0</th>\n",
       "      <th>1</th>\n",
       "      <th>2</th>\n",
       "      <th>3</th>\n",
       "      <th>4</th>\n",
       "      <th>5</th>\n",
       "      <th>count</th>\n",
       "      <th>Anomaly_Score</th>\n",
       "      <th>count_perc</th>\n",
       "    </tr>\n",
       "  </thead>\n",
       "  <tbody>\n",
       "    <tr>\n",
       "      <th>0</th>\n",
       "      <td>Normal</td>\n",
       "      <td>2.016351</td>\n",
       "      <td>2.013611</td>\n",
       "      <td>2.010482</td>\n",
       "      <td>1.987987</td>\n",
       "      <td>2.005899</td>\n",
       "      <td>2.001420</td>\n",
       "      <td>475</td>\n",
       "      <td>-0.164768</td>\n",
       "      <td>95.0</td>\n",
       "    </tr>\n",
       "    <tr>\n",
       "      <th>1</th>\n",
       "      <td>Outlier</td>\n",
       "      <td>0.000069</td>\n",
       "      <td>-0.539563</td>\n",
       "      <td>-0.230458</td>\n",
       "      <td>-0.052175</td>\n",
       "      <td>-0.056271</td>\n",
       "      <td>0.118837</td>\n",
       "      <td>25</td>\n",
       "      <td>3.962588</td>\n",
       "      <td>5.0</td>\n",
       "    </tr>\n",
       "  </tbody>\n",
       "</table>\n",
       "</div>"
      ],
      "text/plain": [
       "     Group         0         1         2         3         4         5  count  \\\n",
       "0   Normal  2.016351  2.013611  2.010482  1.987987  2.005899  2.001420    475   \n",
       "1  Outlier  0.000069 -0.539563 -0.230458 -0.052175 -0.056271  0.118837     25   \n",
       "\n",
       "   Anomaly_Score  count_perc  \n",
       "0      -0.164768        95.0  \n",
       "1       3.962588         5.0  "
      ]
     },
     "execution_count": 113,
     "metadata": {},
     "output_type": "execute_result"
    }
   ],
   "source": [
    "descriptive_stat_threshold(X_test,y_test_by_average, 1.4)"
   ]
  }
 ],
 "metadata": {
  "kernelspec": {
   "display_name": "anom_venv",
   "language": "python",
   "name": "python3"
  },
  "language_info": {
   "codemirror_mode": {
    "name": "ipython",
    "version": 3
   },
   "file_extension": ".py",
   "mimetype": "text/x-python",
   "name": "python",
   "nbconvert_exporter": "python",
   "pygments_lexer": "ipython3",
   "version": "3.9.12"
  },
  "orig_nbformat": 4
 },
 "nbformat": 4,
 "nbformat_minor": 2
}
